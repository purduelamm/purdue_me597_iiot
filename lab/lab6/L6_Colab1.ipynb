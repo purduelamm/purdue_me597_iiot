{
 "cells": [
  {
   "cell_type": "markdown",
   "metadata": {
    "id": "9yw0TF97AxFw"
   },
   "source": [
    "<a href=\"https://colab.research.google.com/github/purduelamm/purdue_me597_iiot/blob/main/lab/lab6/L6_Colab1.ipynb\" target=\"_parent\"><img src=\"https://colab.research.google.com/assets/colab-badge.svg\" alt=\"Open In Colab\"/></a>"
   ]
  },
  {
   "cell_type": "markdown",
   "metadata": {
    "id": "_lmA5oqqnOem"
   },
   "source": [
    "# Lab 6.1 Database & Visualization - MySQL Hands-on Activities"
   ]
  },
  {
   "cell_type": "markdown",
   "metadata": {
    "id": "tmjkArb1nVZu"
   },
   "source": [
    "## Learning Goals\n",
    "\n",
    "Students will be able to:\n",
    "\n",
    "1. Utilize MySQL workbench to create a database table.\n",
    "2. Write SQL statements to modify, edit, and extract data from a table"
   ]
  },
  {
   "cell_type": "markdown",
   "metadata": {
    "id": "5rRm4HkAnTFQ"
   },
   "source": [
    "## 1.1 Introduction\n",
    "\n",
    "The topic of Lab6 is SQL database. We will practice using SQL database, specifically MySQL, to collect IIoT data in this lab. Please note that even if SQL is the relational database, we won’t go on a relational database structure because it is out of the scope of this course. In this lab, however, you will learn the basic syntax of SQL and Python programming to aggregate sensor data to MySQL database. Through hands-on activities, you will perform 1) creating a database table, 2) inserting data to the table using SQL, and 3) Python programming to collect data to the database. At the end of this lab, you will make your Raspberry Pi transmit data from sensors (DHT11 and ADXL345) to the database. To focus on SQL in this lab, let’s set aside the use of MTConnect."
   ]
  },
  {
   "cell_type": "markdown",
   "metadata": {
    "id": "fEDCz7CjnhwS"
   },
   "source": [
    "## 1.2 Creating a database table\n",
    "\n",
    "\n",
    "Let’s start with creating a database table to store data on MySQL server. The MySQL server domain and the port number information for this lab are below.\n",
    "* DNS: mepotrb16.ecn.purdue.edu\n",
    "* Port: 3306\n",
    "\n",
    "The TA made an account for each of you. The account name rule is your ‘firstnamelastname’ based on\n",
    "Brightspace, for example, John Doe’s account name for ME597 MySQL server is ‘johndoe’. And TA will let you know the password of your account.\n",
    "<br></br>\n",
    "Let’s connect MySQL server using MySQL Workbench you installed on laptop in the prelab. Please follow the steps below.\n",
    "\n",
    "1.\tRun *‘MySQL Workbench’* on laptop.\n",
    "2.\tClick ‘+’ symbol next to *‘MySQL Connections’*.\n",
    "\n",
    "  a. *‘Setup New Connection’* window pops up.\n",
    "\n",
    "  <img src=\"https://github.com/purduelamm/purdue_me597_iiot/blob/main/lab/img/lab6_img1.png?raw=true\" width=\"70%\">\n",
    "\n",
    "3.\tPut information on *‘Setup New Connection’* below and then click ‘OK’.\n",
    "\n",
    "  a.\t‘Connection Name’: ME597\n",
    "\n",
    "  b.\t‘Hostname’: mepotrb16.ecn.purdue.edu\n",
    "\n",
    "  c.\t‘Port’: 3306\n",
    "\n",
    "  d.\t‘Username’: firstnamelastname\n",
    "\n",
    "  <img src=\"https://github.com/purduelamm/purdue_me597_iiot/blob/main/lab/img/lab6_img2.png?raw=true\" width=\"70%\">\n",
    "  \n",
    "4.\tClick ‘ME597’ connection on ‘MySQL Workbench’.\n",
    "5.\tPut your password on *‘Connection to MySQL Server’* window.\n",
    "6.\tClick *‘Save password in vault’* check box.\n",
    "7.\tClick *‘OK’*\n",
    "\n",
    "  <img src=\"https://github.com/purduelamm/purdue_me597_iiot/blob/main/lab/img/lab6_img3.png?raw=true\" width=\"70%\">\n",
    "\n",
    "\n"
   ]
  },
  {
   "cell_type": "markdown",
   "metadata": {
    "id": "APQuQ5jcGLpN"
   },
   "source": [
    "Now, you made a connection to the MySQL server. The next is to create a table. Follow the steps below.\n",
    "\n",
    "1.\tClick ‘Schemas’ tab on the left middle side.\n",
    "\n",
    "  a.\tSchema in a SQL database stands for a list of logical structures of data.\n",
    "\n",
    "  b.\tIn the ‘Navigator’ section, you will see database.\n",
    "\n",
    "2.\tClick dropdown button (▼) database on *‘Navigator’* section. (Database name may different)\n",
    "3.\tRight click on *‘Tables’* under database.\n",
    "4.\tClick *‘Create Tables…’* on the right click menu.\n",
    "\n",
    "  a.\tYou will see a new tab for creating a table.\n",
    "\n",
    "  <img src=\"https://github.com/purduelamm/purdue_me597_iiot/blob/main/lab/img_S24_update/lab6_create_table.png?raw=true\" width=\"70%\">\n",
    "\n",
    "5.\tMake table name as ‘firstnamelastname_lab6’.\n",
    "\n",
    "  a.\tE.g., ‘Table Name’: johndoe_lab6\n",
    "\n",
    "6. Create columns as the table and capture below.\n",
    "\n",
    "<table width=\"50%\">\n",
    "<thead>\n",
    "  <tr>\n",
    "    <th>Column Name</th>\n",
    "    <th>Datatype</th>\n",
    "    <th>Option (Column flag)</th>\n",
    "  </tr>\n",
    "</thead>\n",
    "<tbody>\n",
    "  <tr>\n",
    "    <td>id</td>\n",
    "    <td>INT</td>\n",
    "    <td>PK, NN, AI</td>\n",
    "  </tr>\n",
    "  <tr>\n",
    "    <td>timestamp</td>\n",
    "    <td>TIMESTAMP(1)</td>\n",
    "    <td></td>\n",
    "  </tr>\n",
    "  <tr>\n",
    "    <td>sensor</td>\n",
    "    <td>VARCHAR(45)</td>\n",
    "    <td>NN</td>\n",
    "  </tr>\n",
    "  <tr>\n",
    "    <td>measurement</td>\n",
    "    <td>VARCHAR(45)</td>\n",
    "    <td>NN</td>\n",
    "  </tr>\n",
    "  <tr>\n",
    "    <td>value</td>\n",
    "    <td>TINYTEXT</td>\n",
    "    <td>NN</td>\n",
    "  </tr>\n",
    "</tbody>\n",
    "</table>\n",
    "\n",
    "\n",
    "  a. Brief descriptions of column flags are below.\n",
    "  * PK – Primary Key: It can be used to make the column as a primary key.\n",
    "  * NN – NOT NULL: It is used to enforce the column that it will not insert a NULL value.\n",
    "  * BIN – Binary: It is used to store data as a binary string.\n",
    "  * UN – Unsigned: It is used to store an only positive value started from 0.\n",
    "  * UQ – Unique: It can be used to enforce the column to insert only unique value for a specific column.\n",
    "  * ZF – Zero Filled: It makes stored values have specific size by filling 0.\n",
    "  * G – Generated column\n",
    "  * AI – Auto Increment\n",
    "\n",
    "7.\tClick *‘Apply’*.\n",
    "\n",
    "  a. ‘Apply SQL Script to Database’ window pops up.\n",
    "  \n",
    "  <img src=\"https://github.com/purduelamm/purdue_me597_iiot/blob/main/lab/img_S24_update/lab6_create_data_info.png?raw=true\" width=\"70%\">\n",
    "\n",
    "8.\tClick *‘Apply’* on *‘Apply SQL Script to Database’* window.\n",
    "9.\tClick *‘Finish’* on *‘Apply SQL Script to Database’* window.\n",
    "  \n",
    "  <img src=\"https://github.com/purduelamm/purdue_me597_iiot/blob/main/lab/img_S24_update/lab6_apply_SQL_script.png?raw=true\" width=\"100%\">\n",
    "\n",
    "10.\tIf you click the dropdown button (▼) next to ‘Tables’ on ‘Navigator’ section, you will see the created table as below.\n",
    "You should create table under the database\n",
    "\n",
    "  <img src=\"https://github.com/purduelamm/purdue_me597_iiot/blob/main/lab/img_S24_update/lab6_created_table.png?raw=true\" width=\"30%\">\n",
    "\n",
    "\n",
    "You are all set to store data. To see your table, the easiest way on ‘MySQL Workbench’ is that right click your table on ‘Navigator’ and then click ‘Select Rows – Limit 1000’ as Figure 1 (left). Because you do not have any data in the table yet, all column data are NULL as Figure 1 (right). And you can see the executed SQL query on the upper side of your table tab as figure 1 (right).\n",
    "\n",
    "  <img src=\"https://github.com/purduelamm/purdue_me597_iiot/blob/main/lab/img_S24_update/lab6_created_table2.png?raw=true\" width=\"90%\">\n",
    "\n",
    "*Figure 1 Select rows of created table (left) and executed SELECT statement to check data*"
   ]
  },
  {
   "cell_type": "markdown",
   "metadata": {
    "id": "PsP4z6Hrnv1I"
   },
   "source": [
    "### Task 1.1\n",
    "\n",
    "After creating and checking your table, capture the result as Figure 1 (right) and attach it to the report.\n",
    "\n",
    "---\n",
    "\n",
    "Place your screenshot here.\n",
    "\n",
    "---\n"
   ]
  },
  {
   "cell_type": "markdown",
   "metadata": {
    "id": "0YGotBKFn7xG"
   },
   "source": [
    "## 1.3 SQL query practice\n",
    "\n",
    "By executing SQL query on ‘MySQL Workbench’, you can manipulate the database. In this part, we will practice only INSERT and SELECT statements to store and see data on the table before we move to Python programming. On the ‘Query’ tab, execute INSERT statement example below. To run the SQL query, click\n",
    "‘Execute’ icon (lightning bolt) on the menu bar as Figure 2. Please note that you need change the placeholder table name in the sample statement.\n",
    "\n",
    "---\n",
    "\n",
    "**<img src=\"https://github.com/purduelamm/purdue_me597_iiot/blob/main/lab/img/icon_SQL.png?raw=tru\" width=\"40\">SQL - INSERT Statement example** - You should check your \"database_name\" & \"yourname_lab6\"\n",
    "\n",
    "```\n",
    "INSERT INTO database_name.yourname_lab6 (sensor, measurement, value)\n",
    "VALUES('sensor1','acceleration1','0');\n",
    "INSERT INTO database_name.yourname_lab6 (sensor, measurement, value)\n",
    "VALUES('sensor1','acceleration2','3');\n",
    "INSERT INTO database_name.yourname_lab6 (sensor, measurement, value)\n",
    "VALUES('sensor2','temperature','25');\n",
    "\n",
    "```\n",
    "\n",
    "---\n",
    "\n",
    "<img src=\"https://github.com/purduelamm/purdue_me597_iiot/blob/main/lab/img_S24_update/lab6_fig2.png?raw=true\" width=\"70%\">\n",
    "\n",
    "*Figure 2 INSERT statement example*\n",
    "\n",
    "If you check the table, you see the inserted data as Figure 3. As you see, there is no data in ‘timestamp’ column because we did not include ‘timestamp’ information in the INSERT statement example.\n",
    "\n",
    "<img src=\"https://github.com/purduelamm/purdue_me597_iiot/blob/main/lab/img_S24_update/lab6_fig3.png?raw=true\" width=\"70%\">\n",
    "\n",
    "*Figure 3 Table after executing INSERT statement example*\n",
    "\n",
    "Now, let’s try SELECT statement example. The SELECT statement example below is to select only ‘measurement’ and ‘value’ data from ‘sensor1’. The result is shown in Figure 4. Please note that response of SELECT statement is a result grid and ‘*’ after SELECT statement means ‘ALL’.\n",
    "\n",
    "---\n",
    "\n",
    "**<img src=\"https://github.com/purduelamm/purdue_me597_iiot/blob/main/lab/img/icon_SQL.png?raw=tru\" width=\"40\">SQL - INSERT Statement example**\n",
    "\n",
    "```\n",
    "SELECT measurement, value from database_name.yourname_lab6\n",
    "WHERE sensor = 'sensor1';\n",
    "\n",
    "```\n",
    "\n",
    "---\n",
    "\n",
    "<img src=\"https://github.com/purduelamm/purdue_me597_iiot/blob/main/lab/img_S24_update/lab6_fig4.png?raw=true\" width=\"70%\">\n",
    "\n",
    "*Figure 4 Result after executing SELECT statement example*\n"
   ]
  },
  {
   "cell_type": "markdown",
   "metadata": {
    "id": "JWedWrAxoAb0"
   },
   "source": [
    "### Task 1.2\n",
    "\n",
    "Create a SELECT statement to get ‘timestamp’, ‘measurement’, and ‘value’ data of only ‘sensor’ is ‘sensor2’. Capture the result grid output and attach your SELECT statement and the result as Figure 4 to the report.\n",
    "\n",
    "---\n",
    "\n",
    "Place your screenshot here.\n",
    "\n",
    "---"
   ]
  },
  {
   "cell_type": "code",
   "execution_count": null,
   "metadata": {
    "id": "AHQMAvGugAE8"
   },
   "outputs": [],
   "source": [
    "# Place your SQL SELECT statement here.\n",
    "#\n",
    "\n",
    "\n",
    "#"
   ]
  },
  {
   "cell_type": "markdown",
   "metadata": {
    "id": "jTmbRsHkoDJX"
   },
   "source": [
    "So far, we performed basic use of MySQL. Let’s move to Python programming on Raspberry Pi to collect data.  "
   ]
  },
  {
   "cell_type": "markdown",
   "metadata": {
    "id": "5TUXa66NOh5p"
   },
   "source": [
    "<br></br>\n",
    "\n",
    "Please continue to [Lab 6.2 here](https://colab.research.google.com/github/purduelamm/purdue_me597_iiot/blob/main/lab/lab6/L6_Colab2.ipynb).\n"
   ]
  }
 ],
 "metadata": {
  "colab": {
   "provenance": []
  },
  "kernelspec": {
   "display_name": "Python 3",
   "name": "python3"
  },
  "language_info": {
   "name": "python"
  }
 },
 "nbformat": 4,
 "nbformat_minor": 0
}
