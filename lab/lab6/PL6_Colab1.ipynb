{
 "cells": [
  {
   "cell_type": "markdown",
   "metadata": {
    "id": "eXtC0PFn6qL4"
   },
   "source": [
    "<a href=\"https://colab.research.google.com/github/purduelamm/purdue_me597_iiot/blob/main/lab/lab6/PL6_Colab1.ipynb\" target=\"_parent\"><img src=\"https://colab.research.google.com/assets/colab-badge.svg\" alt=\"Open In Colab\"/></a>"
   ]
  },
  {
   "cell_type": "markdown",
   "metadata": {
    "id": "sQ3lfLGgjZ6C"
   },
   "source": [
    "# Prelab 6.1 Database & Visualization 1 - SQL Database"
   ]
  },
  {
   "cell_type": "markdown",
   "metadata": {
    "id": "zjD9xS6PYaBV"
   },
   "source": [
    "## Learning Goals\n",
    "\n",
    "Students will be able to:\n",
    "\n",
    "1. Execute basic SQL statements and clauses to perform actions on a database\n",
    "2. Write a Python script to execute SQL statements that modify a SQL database"
   ]
  },
  {
   "cell_type": "markdown",
   "metadata": {
    "id": "NDJMI3eUjf78"
   },
   "source": [
    "## 1.1 Introduction\n",
    "\n",
    "In this lab, we will use a database to store data that is collected by IoT sensors and devices. In Lab 4 and 5, we learned MTConnect as a middleware to integrate data flow. Because data size in the MTConnect agent is limited to the memory size of the computer, introducing database is needed to store data for long-term use.\n",
    "\n",
    "There are many different types of databases. Normally the types of databases are divided into SQL (Structured Query Language) and NoSQL (non SQL or not only SQL). The selection of a proper database is important when you start a project. Of course, NoSQL can be better in many applications. However, of the various databases, we will use SQL (Structured Query Language) database, specifically MySQL. SQL is a standardized programing “language” that is used to manage relational databases and perform various operations on the data in them. Because SQL database is elementary of database, we will use SQL for the lab activities. SQL allow us to store, update, and retrieve data in databases. MySQL is an open-source (royalty free) relational database management system (RDBMS). It is developed by Oracle Co. MySQL is a representative RDBMS and it is used by many popular websites, including Facebook, Flickr, YouTube and so on.\n",
    "\n",
    "The purpose of Lab 7 is 1) to understand the basic syntax of SQL and 2) to manipulate (store and retrieve) databases. As a hands-on activity, we will store sensor data into MySQL database using SQL and retrieve data from it.\n"
   ]
  },
  {
   "cell_type": "markdown",
   "metadata": {
    "id": "JubZzBqsjhDY"
   },
   "source": [
    "## 1.2 MySQL Python Package Installation on Raspberry Pi\n",
    "\n",
    "In Lab 6, we will program a Python script to store sensor data into MySQL database. PyMySQL\n",
    "(https://pypi.org/project/PyMySQL/, available on Feb. 28, 2022) will be used. Please follow the steps to install PyMySQL Python package below.\n",
    "1.\tTo make your Raspberry Pi up to date and upgrade\n",
    "\n",
    "---\n",
    "\n",
    "**<img src=\"https://github.com/purduelamm/purdue_me597_iiot/blob/main/lab/img/icon_RaspberryPi.png?raw=tru\" width=\"20\">Raspberry Pi - Terminal**\n",
    "\n",
    "`sudo apt update`\n",
    "\n",
    "\n",
    "`sudo apt upgrade`\n",
    "\n",
    "---\n",
    "2.\tInstall PyMySQL Python package (latest version is 1.0.2)\n",
    "\n",
    "---\n",
    "\n",
    "**<img src=\"https://github.com/purduelamm/purdue_me597_iiot/blob/main/lab/img/icon_RaspberryPi.png?raw=tru\" width=\"20\">Raspberry Pi - Terminal**\n",
    "\n",
    "`sudo pip3 install PyMySQL`\n",
    "\n",
    "---\n",
    "\n",
    "<img src=\"https://github.com/purduelamm/purdue_me597_iiot/blob/main/lab/img/prelab6_fig1.png?raw=true\" width=\"60%\">\n",
    "\n",
    "*Figure 1 PyMySQL installation on Raspberry Pi*\n",
    "\n",
    "3. Check if PyMySQL is installed as below\n",
    "\n",
    "---\n",
    "\n",
    "**<img src=\"https://github.com/purduelamm/purdue_me597_iiot/blob/main/lab/img/icon_RaspberryPi.png?raw=tru\" width=\"20\">Raspberry Pi - Terminal**\n",
    "\n",
    "`python3`\n",
    "\n",
    "**<img src=\"https://github.com/purduelamm/purdue_me597_iiot/blob/main/lab/img/icon_Python.png?raw=tru\" width=\"20\">Python - Python3 interpreter in 'Terminal'**\n",
    "\n",
    "`import pymysql`\n",
    "\n",
    "`print(\"PyMySQL version:\", pymysql.__version__)`\n",
    "\n",
    "<img src=\"https://github.com/purduelamm/purdue_me597_iiot/blob/main/lab/img/prelab6_fig2.png?raw=true\" width=\"60%\">\n",
    "\n",
    "\n",
    "*Figure 2 PyMySQL import and check the version*\n",
    "\n",
    "---"
   ]
  },
  {
   "cell_type": "markdown",
   "metadata": {
    "id": "wT1-tImujl8-"
   },
   "source": [
    "### Task 1.1\n",
    "\n",
    "Install PyMySQL package on Raspberry Pi. Check the version of PyMySQL and then attach the result of the terminal window as Figure 2 to the report.\n",
    "\n",
    "---\n",
    "\n",
    "Place your screenshot here.\n",
    "\n",
    "---\n",
    "* To exit the Python interpreter, the command is ‘exit()’.\n"
   ]
  },
  {
   "cell_type": "markdown",
   "metadata": {
    "id": "Vtrcvs2rjrPu"
   },
   "source": [
    "## 1.3 MySQL Workbench Installation on Windows\n",
    "\n",
    "We can manage MySQL database through command line interface. However, it requires fluent skills on both MySQL client and CLI. We will use [MySQL Workbench](https://www.mysql.com/products/workbench/). MySQL Workbench is a unified visual tool for database architects, developers. It provides data modeling, SQL development, and comprehensive administration tools. We will use MySQL Workbench to practice basic syntax of SQL. To install MySQL Workbench, please follow the steps below.\n",
    "1.\tVisit [MySQL Community Downloads](https://dev.mysql.com/downloads/workbench/)\n",
    "2.\tDownload and install MySQL Workbench Community version 8.0.X\n",
    "\n",
    "  a. You can install other versions but please make sure to install the version higher than 8.0.\n",
    "\n",
    "<img src=\"https://github.com/purduelamm/purdue_me597_iiot/blob/main/lab/img/prelab6_fig3.png?raw=true\" width=\"80%\">\n",
    "\n",
    "*Figure 3 MySQL Workbench window*\n",
    "\n",
    "## Troubleshooting\n",
    "\n",
    "If you encounter an error message while downloading MySQL, it means that the compatible 'Visual C++' software is not installed. Please follow the guidelines and retry the download process.\n",
    "\n",
    "<img src=\"https://github.com/purduelamm/purdue_me597_iiot/blob/main/lab/img_25S_update/lab6_fig2.png?raw=true\" width=\"80%\">\n",
    "\n",
    "First, enter the following Visual C++ download link.\n",
    "\n",
    "https://learn.microsoft.com/en-us/cpp/windows/latest-supported-vc-redist?view=msvc-170\n",
    "\n",
    "Click the following link, as shown in the red box.  \n",
    "\n",
    "<img src=\"https://github.com/purduelamm/purdue_me597_iiot/blob/main/lab/img_25S_update/lab6_fig3.png?raw=true\" width=\"80%\">\n",
    "\n",
    "Select a C++ download link that matches your OS version and is compatible. \n",
    "\n",
    "(x86: Window 32-bit, x64: Window 64-bit, ARM64: Linux 64-bit)\n",
    "\n",
    "<img src=\"https://github.com/purduelamm/purdue_me597_iiot/blob/main/lab/img_25S_update/lab6_fig4.png?raw=true\" width=\"80%\">"
   ]
  },
  {
   "cell_type": "markdown",
   "metadata": {
    "id": "xOqcGrWrjuPT"
   },
   "source": [
    "### Task  1.2\n",
    "\n",
    "Install MySQL Workbench on Windows and run it. Capture the window as Figure 3 and then attach it to the report.\n",
    "\n",
    "---\n",
    "\n",
    "Place your screenshot here.\n",
    "\n",
    "---\n"
   ]
  },
  {
   "cell_type": "markdown",
   "metadata": {
    "id": "uwrgB8RFjvth"
   },
   "source": [
    "### Task 1.3\n",
    "\n",
    "Complete the SQL tutorial in the following URL from the section 'SQL Home' to the section 'SQL Like'.\n",
    "* (Tutorial) W3Schools: https://www.w3schools.com/sql/default.asp\n"
   ]
  },
  {
   "cell_type": "code",
   "execution_count": null,
   "metadata": {
    "colab": {
     "base_uri": "https://localhost:8080/"
    },
    "id": "eDfoXuoMUrVk",
    "outputId": "a125d40f-f167-4733-f3ad-1f0e7bb35b85"
   },
   "outputs": [
    {
     "name": "stdout",
     "output_type": "stream",
     "text": [
      "\n"
     ]
    }
   ],
   "source": [
    "#@title Task 1.4 Answer the following questions {display-mode: \"form\"}\n",
    "\n",
    "#@markdown #### 1. Describe the structure of a table and the components that make up a SQL table.\n",
    "T4_1 = '' #@param {type: \"string\"}\n",
    "print(T4_1)\n",
    "\n",
    "#@markdown #### 2. Explain the function of each of the SQL statemnts or clauses below.\n",
    "T4_SELECT = '' #@param {type: \"string\"}\n",
    "T4_INSERT_INTO = '' #@param {type: \"string\"}\n",
    "T4_WHERE = '' #@param {type: \"string\"}\n",
    "T4_ORDER_BY = '' #@param {type: \"string\"}\n",
    "T4_FROM = '' #@param {type: \"string\"}\n"
   ]
  },
  {
   "cell_type": "markdown",
   "metadata": {
    "id": "tqcsFIa9-NP7"
   },
   "source": [
    "<br></br>\n",
    "\n",
    "Get back to [Lab Index Page](https://colab.research.google.com/github/purduelamm/purdue_me597_iiot/blob/main/index.ipynb)"
   ]
  }
 ],
 "metadata": {
  "colab": {
   "provenance": []
  },
  "kernelspec": {
   "display_name": "Python 3",
   "name": "python3"
  },
  "language_info": {
   "name": "python"
  }
 },
 "nbformat": 4,
 "nbformat_minor": 0
}
