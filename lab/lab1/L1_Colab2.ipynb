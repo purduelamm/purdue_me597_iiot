{
 "cells": [
  {
   "cell_type": "markdown",
   "metadata": {
    "id": "WUChTh_QtUa5"
   },
   "source": [
    "<a href=\"https://colab.research.google.com/github/purduelamm/purdue_me597_iiot/blob/main/lab/lab1/L1_Colab2.ipynb\" target=\"_parent\"><img src=\"https://colab.research.google.com/assets/colab-badge.svg\" alt=\"Open In Colab\"/></a>\n",
    "\n",
    "\n"
   ]
  },
  {
   "cell_type": "markdown",
   "metadata": {
    "id": "PT5RhbdDNSlS"
   },
   "source": [
    "#Lab 1.2 IoT Sensor Data Collection 1 - Temperature Sensor"
   ]
  },
  {
   "cell_type": "markdown",
   "metadata": {
    "id": "iOqV_BvyOoD7"
   },
   "source": [
    "## 1.1 Plotting the sensor data from the DS18B20\n",
    "\n",
    "Plot the measured data from the CSV file using the template code below and attach the two plots (temperature according to timestamp).\n"
   ]
  },
  {
   "cell_type": "markdown",
   "metadata": {
    "id": "hmSaNUxvOrCw"
   },
   "source": [
    "Lets plot the temperature graph first.\n",
    "\n",
    "Import essential libraries:"
   ]
  },
  {
   "cell_type": "code",
   "execution_count": 7,
   "metadata": {
    "id": "bLdFmztwiPLA"
   },
   "outputs": [],
   "source": [
    "import matplotlib.pyplot as plt\n",
    "import numpy as np\n",
    "import pandas as pd\n",
    "import io\n",
    "import seaborn as sns\n"
   ]
  },
  {
   "cell_type": "markdown",
   "metadata": {
    "id": "IAJAyG27OxmW"
   },
   "source": [
    "### Load CSV Data\n"
   ]
  },
  {
   "cell_type": "markdown",
   "metadata": {
    "id": "7tQfDEJVO0-y"
   },
   "source": [
    "The following code allows you to upload the data stored in a csv file to this Colab notebook."
   ]
  },
  {
   "cell_type": "code",
   "execution_count": null,
   "metadata": {
    "id": "fd3AAKpsMQ-X"
   },
   "outputs": [],
   "source": [
    "#This code allows you to upload a file from your local drive\n",
    "from google.colab import files\n",
    "uploaded = files.upload()\n",
    "#If you will work with excel, please save your file with a .CSV format\n",
    "#Check the output file name below. You will use that file name in the next block."
   ]
  },
  {
   "cell_type": "code",
   "execution_count": null,
   "metadata": {
    "id": "TDB1J4dY7K8b"
   },
   "outputs": [],
   "source": [
    "#Write the file name from the output above, inside the ' ' within the brackets.\n",
    "#It will sub where it reads 'yourfilename.csv'\n",
    "#If you want to check the uploaded file, click Files on the left-hand side menu\n",
    "df = pd.read_csv(io.BytesIO(uploaded['yourfilename.csv']))\n",
    "df"
   ]
  },
  {
   "cell_type": "markdown",
   "metadata": {
    "id": "0RQ8TKQoO8-D"
   },
   "source": [
    "### Data plotting"
   ]
  },
  {
   "cell_type": "markdown",
   "metadata": {
    "id": "9uofVTICMJ3P"
   },
   "source": [
    "Plot a chart that includes temperature (in &deg;C, &deg;F) in the code box below:"
   ]
  },
  {
   "cell_type": "code",
   "execution_count": null,
   "metadata": {
    "id": "T73dzlKq8Gzk"
   },
   "outputs": [],
   "source": [
    "df['time'] = pd.to_datetime(df[\"Timestamp\"])\n",
    "time = df['time'].dt.hour*3600 + df['time'].dt.minute*60 + df['time'].dt.second\n",
    "t1 = time - time[0]\n",
    "temperature = df['Temperature']\n",
    "\n",
    "#Code section of the random number generator with plotting\n",
    "fig = plt.figure() # Creates a new figure\n",
    "\n",
    "ax = fig.add_subplot(111) # add a subplot to the new figure, 111 means \"1x1 grid, first subplot\"\n",
    "#fig.subplots_adjust(top=0.80) # adjust the placing of subplot, adjust top, bottom, left and right spacing\n",
    "ax.set_title('Temperature graph',fontsize= 20) # title of plot\n",
    "\n",
    "ax.set_xlabel('seconds',fontsize = 10) #xlabel\n",
    "ax.set_ylabel('Degree of Celsius', fontsize = 10) #ylabel\n",
    "\n",
    "\n",
    "ax.plot(t1,temperature,'-o') #plotting the data with marker '-o'\n",
    "#ax.axis([0, 10, 0, 10]) #specifying plot axes lengths\n",
    "plt.show()\n",
    "                      # prints the graph"
   ]
  },
  {
   "cell_type": "markdown",
   "metadata": {
    "id": "moM5Fr1PPB05"
   },
   "source": [
    "### Task 2.1\n",
    "\n",
    "Plot a chart using that includes both temperature unit in the code box below:"
   ]
  },
  {
   "cell_type": "code",
   "execution_count": null,
   "metadata": {
    "id": "BqDZRtekF3f2"
   },
   "outputs": [],
   "source": [
    "#Insert your coding below this line\n"
   ]
  },
  {
   "cell_type": "markdown",
   "metadata": {
    "id": "8B1yMEWN73qk"
   },
   "source": [
    "## Lab1 Summary and Deliverables\n",
    "\n",
    "Answer the following questions for your achievements\n",
    "\n",
    "\n"
   ]
  },
  {
   "cell_type": "markdown",
   "metadata": {
    "id": "rv8UEEKP9-_1"
   },
   "source": [
    "### Q1. Please summarize Lab1.\n",
    "\n",
    "---\n",
    "\n",
    "Write down A1 here.\n",
    "\n",
    "---\n"
   ]
  },
  {
   "cell_type": "markdown",
   "metadata": {
    "id": "Ds99tKJo-Ivv"
   },
   "source": [
    "### Q2. What skills did you have to develop to accomplish this project?\n",
    "\n",
    "---\n",
    "\n",
    "Write down A2 here.\n",
    "\n",
    "---"
   ]
  },
  {
   "cell_type": "markdown",
   "metadata": {
    "id": "-9jgGsGh-MJA"
   },
   "source": [
    "### Q3. What aspects of this project were the most beneficial for your learning?\n",
    "\n",
    "---\n",
    "\n",
    "Write down A3 here.\n",
    "\n",
    "---"
   ]
  },
  {
   "cell_type": "markdown",
   "metadata": {
    "id": "lIKRWroa-Oq2"
   },
   "source": [
    "### Q4. What challenges did you encounter in completing the project?\n",
    "\n",
    "---\n",
    "\n",
    "Write down A4 here.\n",
    "\n",
    "---"
   ]
  },
  {
   "cell_type": "markdown",
   "metadata": {
    "id": "W2t4RCyj-RcR"
   },
   "source": [
    "### Q5. How did you overcome the challenges or remedy the problems encountered?\n",
    "\n",
    "---\n",
    "\n",
    "Write down A5 here.\n",
    "\n",
    "---"
   ]
  },
  {
   "cell_type": "markdown",
   "metadata": {
    "id": "3oZoxZ0E-nHx"
   },
   "source": [
    "<br></br>\n",
    "\n",
    "Get back to [Lab Index Page](https://colab.research.google.com/github/purduelamm/purdue_me597_iiot/blob/main/index.ipynb)"
   ]
  }
 ],
 "metadata": {
  "colab": {
   "provenance": []
  },
  "kernelspec": {
   "display_name": "Python 3",
   "name": "python3"
  },
  "language_info": {
   "codemirror_mode": {
    "name": "ipython",
    "version": 3
   },
   "file_extension": ".py",
   "mimetype": "text/x-python",
   "name": "python",
   "nbconvert_exporter": "python",
   "pygments_lexer": "ipython3",
   "version": "3.11.9"
  }
 },
 "nbformat": 4,
 "nbformat_minor": 0
}
