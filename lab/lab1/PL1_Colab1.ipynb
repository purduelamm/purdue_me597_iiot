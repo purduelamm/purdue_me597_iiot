{
 "cells": [
  {
   "cell_type": "markdown",
   "metadata": {
    "id": "XBvKXJBhtZnA"
   },
   "source": [
    "<a href=\"https://colab.research.google.com/github/purduelamm/purdue_me597_iiot/blob/main/lab/lab1/PL1_Colab1.ipynb\" target=\"_parent\"><img src=\"https://colab.research.google.com/assets/colab-badge.svg\" alt=\"Open In Colab\"/></a>"
   ]
  },
  {
   "cell_type": "markdown",
   "metadata": {
    "id": "qt1MVL2l98aT"
   },
   "source": [
    "# Prelab 1.1 IoT Sensor Data Collection 1 - Temperature Sensor"
   ]
  },
  {
   "cell_type": "markdown",
   "metadata": {
    "id": "i7blwyfBccKV"
   },
   "source": [
    "##Learning Goals\n",
    "\n",
    "\n",
    "*   Students will be able to prepare the basic software requirements in Raspberry Pi to measure sensor data.\n",
    "* Students will be able to code using basic python functions related to date and time\n",
    "\n"
   ]
  },
  {
   "cell_type": "markdown",
   "metadata": {
    "id": "Qr7lyUq798VI"
   },
   "source": [
    "## 1.1 Introduction\n",
    "\n",
    "In Lab 1, we will use a digital temperature sensor, DS18B20 module\n",
    "(https://www.analog.com/en/products/ds18b20.html, available on Dec. 19, 2024), to measure atmospheric temperature. It uses a capacitive thermistor to measure the surrounding air and splits out a digital signal on the digital pin."
   ]
  },
  {
   "cell_type": "markdown",
   "metadata": {
    "id": "B-8kdzmcccnP"
   },
   "source": [
    "The DS18B20 module is simple to use but requires careful timing to grab data.\n",
    "\n",
    "**Warning! The only real downside of this sensor is you can only get new data from it once every 750 miliseconds.**\n",
    "\n",
    "There are many applications using the temperature sensor, such as HVAC (Heating, Ventilation, and Air Conditioning), testing and inspection equipment, consumer goods, automotive, automatic control, data loggers, humidity regulator, and so on.\n",
    "\n",
    "Prelab 1 is to prepare the DS18B20 module use for Lab 1 and to get familiar with Python. In all lab manuals, Python means Python3 if no further descriptions. We will use Raspberry Pi and Python. Lab manuals will mainly describe the use of ‘Terminal’. However, if you are a beginner of Python, you can also use Thonny IDE, the default software of Raspberry Pi OS. If you are interested, visit and follow this tutorial (https://roboticsbackend.com/thonny-ide-raspberry-pi-os/, available on Dec. 19, 2024)."
   ]
  },
  {
   "cell_type": "markdown",
   "metadata": {
    "id": "Nvp70zp4-8MA"
   },
   "source": [
    "## 1.2 Python Package Installation\n",
    "\n",
    "First, you need to make Raspberry Pi have the latest packages.\n",
    "\n",
    "---\n",
    "**<img src=\"https://github.com/purduelamm/purdue_me597_iiot/blob/main/lab/img/icon_RaspberryPi.png?raw=true\" width=\"20\">Raspberry Pi - Terminal**\n",
    "\n",
    "`sudo apt update`\n",
    "\n",
    "`sudo apt upgrade`\n",
    "\n",
    "---\n",
    "\n",
    "To install Python additional packages, we will use ‘pip’ package. The ‘pip’ is the standard package manager for Python. It enables you to install and manage additional packages that are not part of Python library. Let’s install ‘pip’ package first.\n",
    "\n",
    "---\n",
    "**<img src=\"https://github.com/purduelamm/purdue_me597_iiot/blob/main/lab/img/icon_RaspberryPi.png?raw=true\" width=\"20\">Raspberry Pi - Terminal**\n",
    "\n",
    "`sudo apt install python3-pip`\n",
    "\n",
    "---\n",
    "\n",
    "To check ‘pip’ version, you can use the command ‘pip --version’ in ‘Terminal’. To see all installed Python packages and their versions, use ‘pip list’ in ‘Terminal’ as below.\n",
    "\n",
    "---\n",
    "**<img src=\"https://github.com/purduelamm/purdue_me597_iiot/blob/main/lab/img/icon_RaspberryPi.png?raw=true\" width=\"20\">Raspberry Pi - Terminal**\n",
    "\n",
    "`pip3 --version`\n",
    "\n",
    "`pip3 list`\n",
    "\n",
    "---\n",
    "\n",
    "<img src=\"https://github.com/purduelamm/purdue_me597_iiot/blob/main/lab/img/prelab1_fig1.png?raw=true\" width=\"70%\">\n",
    "\n",
    "*Figure 1 Terminal window to check pip version*\n",
    "\n"
   ]
  },
  {
   "cell_type": "markdown",
   "metadata": {
    "id": "X9f99EbHADDh"
   },
   "source": [
    "### Task 1.1\n",
    "\n",
    "Capture your terminal window as Figure 1 after checking pip version and attach it to the report below:"
   ]
  },
  {
   "cell_type": "markdown",
   "metadata": {
    "id": "DriPsIADpy9C"
   },
   "source": [
    "---\n",
    "\n",
    "Place your screenshot in here.\n",
    "\n",
    "---"
   ]
  },
  {
   "cell_type": "markdown",
   "metadata": {
    "id": "RizKYdNkAILf"
   },
   "source": [
    "To access data from DS18B20, we will use 1-Wire interface of Raspberry Pi. The steps for enabling the 1-Wire interface are described in GUI (VNC access). If you want to do it in CLI, please use `sudo raspi-config`. Continue to follow the procedure below for the remainder.\n",
    "\n",
    "1.\tClick ‘Menu’\n",
    "2.\tDrop down ‘Preferences’\n",
    "3.\tClick ‘Raspberry Pi configuration’\n",
    "4.\tClick ‘Interfaces’ tab\n",
    "5.\tClick ‘Enable’ of ‘1-Wire’ as Figure 1.\n",
    "6.\tReboot Raspberry Pi\n",
    "\n",
    "<img src=\"https://github.com/purduelamm/purdue_me597_iiot/blob/main/lab/img_S25_update/prelab1_fig1.png?raw=true\" width=\"50%\">\n",
    "\n",
    "*Figure 2 Enabling 1-Wire*"
   ]
  },
  {
   "cell_type": "markdown",
   "metadata": {
    "id": "8Jo-tuxBBJVT"
   },
   "source": [
    "### Task 1.2\n",
    "\n",
    "Capture your terminal window as Figure 2 to see the configuration and attach it to the report below:"
   ]
  },
  {
   "cell_type": "markdown",
   "metadata": {
    "id": "qxRXMkDBd439"
   },
   "source": [
    "---\n",
    "\n",
    "Place your screenshot in here.\n",
    "\n",
    "---"
   ]
  },
  {
   "cell_type": "markdown",
   "metadata": {
    "id": "IefqpVwYBXwP"
   },
   "source": [
    "Finally, install ‘matplotlib’ Python package by using ‘pip3’ command. We will use ‘matplotlib’ package to visualize data in the following lab sessions.\n",
    "\n",
    "**<img src=\"https://github.com/purduelamm/purdue_me597_iiot/blob/main/lab/img/icon_RaspberryPi.png?raw=true\" width=\"20\">Raspberry Pi - Terminal**\n",
    "\n",
    "`sudo pip3 install matplotlib`"
   ]
  },
  {
   "cell_type": "markdown",
   "metadata": {
    "id": "WqiXJn61G083"
   },
   "source": [
    "<br></br>\n",
    "\n",
    "Please continue to [Prelab 1.2 here](https://colab.research.google.com/github/purduelamm/purdue_me597_iiot/blob/main/lab/lab1/PL1_Colab2.ipynb).\n"
   ]
  }
 ],
 "metadata": {
  "colab": {
   "provenance": []
  },
  "kernelspec": {
   "display_name": "Python 3",
   "name": "python3"
  },
  "language_info": {
   "name": "python"
  }
 },
 "nbformat": 4,
 "nbformat_minor": 0
}
