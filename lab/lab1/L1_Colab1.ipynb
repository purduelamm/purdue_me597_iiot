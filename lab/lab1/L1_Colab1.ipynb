{
 "cells": [
  {
   "cell_type": "markdown",
   "metadata": {
    "id": "RZ-PcL2ptIef"
   },
   "source": [
    "<a href=\"https://colab.research.google.com/github/purduelamm/purdue_me597_iiot/blob/main/lab/lab1/L1_Colab1.ipynb\" target=\"_parent\"><img src=\"https://colab.research.google.com/assets/colab-badge.svg\" alt=\"Open In Colab\"/></a>"
   ]
  },
  {
   "cell_type": "markdown",
   "metadata": {
    "id": "PT5RhbdDNSlS"
   },
   "source": [
    "#Lab 1.1 IoT Sensor Data Collection 1 - Temperature Sensor"
   ]
  },
  {
   "cell_type": "markdown",
   "metadata": {
    "id": "i7blwyfBccKV"
   },
   "source": [
    "##Learning Goals\n",
    "\n",
    "\n",
    "* Students will be able to code in Python to read data from the DS18B20 sensor.\n",
    "* Students will be able to code in Python to save sensory data in a csv file.\n",
    "* Students will be able to plot sensory data in a line chart.\n",
    "\n"
   ]
  },
  {
   "cell_type": "markdown",
   "metadata": {
    "id": "QrrxztCCNg_5"
   },
   "source": [
    "## 1.1 Introduction\n",
    "\n",
    "In Lab1, we will measure atmospheric temperature from DS18B20. Each DS18B20 is already calibrated in the laboratory which is accurate temperature calibration. Because the calibration coefficients are stored in the OTP (One-Time Programmable) memory of the sensor, we do not need to calibrate the sensor. The single-wire serial interface makes system integration quick and easy. Typical application and wiring diagram of DS18B20 is shown in Figure 1. Technical specifications are shown in Table 1.\n",
    "\n",
    "<img src=\"https://github.com/purduelamm/purdue_me597_iiot/blob/main/lab/img_S25_update/lab1_fig1.png?raw=true\" width='70%'>\n",
    "\n",
    "*Figure 1 Wiring diagram of DS18B20 and application (MCU: Micro-computer unit)*\n",
    "\n",
    "*Table 1 Overview of sensor specification*\n",
    "\n",
    "<table width=\"672\">\n",
    "<tbody>\n",
    "<tr>\n",
    "<td width=\"86\">\n",
    "<p>Sensor</p>\n",
    "</td>\n",
    "<td width=\"111\">\n",
    "<p>Measurement</p>\n",
    "</td>\n",
    "<td width=\"104\">\n",
    "<p>Range</p>\n",
    "</td>\n",
    "<td width=\"200\">\n",
    "<p>Accuracy</p>\n",
    "</td>\n",
    "<td width=\"120\">\n",
    "<p>Refresh rate</p>\n",
    "</td>\n",
    "<td width=\"103\">\n",
    "<p>Resolution</p>\n",
    "</td>\n",
    "<td width=\"120\">\n",
    "<p>Package</p>\n",
    "</td>\n",
    "</tr>\n",
    "\n",
    "<tr>\n",
    "<td width=\"86\">\n",
    "<p>DS18B20</p>\n",
    "</td>\n",
    "<td width=\"111\">\n",
    "<p>Temperature</p>\n",
    "</td>\n",
    "<td width=\"150\">\n",
    "<p>-55&deg;C to 125&deg;C</p>\n",
    "</td>\n",
    "<td width=\"200\">\n",
    "<p>&plusmn;0.5&deg;C from -10&deg;C to 85&deg;C</p>\n",
    "</td>\n",
    "<td width=\"120\">\n",
    "<p>1 seconds</p>\n",
    "</td>\n",
    "<td width=\"103\">\n",
    "<p>0.0625</p>\n",
    "</td>\n",
    "<td width=\"120\">\n",
    "<p>3 Pin single row</p>\n",
    "</td>\n",
    "</tr>\n",
    "\n",
    "</tbody>\n",
    "</table>\n",
    "<p>&nbsp;</p>\n",
    "\n",
    "To make a connection between DS18B20 and Raspberry Pi, we will use GIPO (General-Purpose Input/Output) pins. The raw of GPIO pins is on powerful feature of the Raspberry Pi that allows us to make connection between Raspberry Pi and outside world. GPIO pins and number is shown in Figure 2 (Source:\n",
    "https://learn.sparkfun.com/tutorials/introduction-to-the-raspberry-pi-gpio-and-physical-computing/gpio-pinsoverview, available on Dec. 19, 2024). In lab manuals, pin wiring connection is described using pin number. For example, Pin 16 of Raspberry Pi means GPIO 23.\n",
    "\n",
    "<img src=\"https://github.com/purduelamm/purdue_me597_iiot/blob/main/lab/img/lab1_fig2.png?raw=true\" width=\"100%\">\n",
    "\n",
    "*Figure 2 Raspberry Pi (left) and GPIO pins with numbers (right)*\n",
    "\n",
    "In ‘Terminal’ you can see pin information as well. Using ‘pinout’ command, you can check basic information, board layout, GPIO pin information, and so on. Try the command below.\n",
    "\n",
    "---\n",
    "**<img src=\"https://github.com/purduelamm/purdue_me597_iiot/blob/main/lab/img/icon_RaspberryPi.png?raw=tru\" width=\"20\">Raspberry Pi - Terminal**\n",
    "\n",
    "`pinout`\n",
    "\n",
    "---\n",
    "\n",
    "Using GPIO pin connection and Python programming, in this lab, you will measure the atmospheric temperature of DS18B20. Furthermore, you will save the collected data in a CSV file and plot to see the measured data.\n"
   ]
  },
  {
   "cell_type": "markdown",
   "metadata": {
    "id": "W2YFAWVCVXYV"
   },
   "source": [
    "## 1.2 Wiring Connection\n",
    "\n",
    "Pin information of DS18B20 is shown in Figure 3. Using jumper wires given, make connection as Table 3. **To connect the sensor to your Raspberry Pi, please refere to Figure 4.**\n",
    "\n",
    "<img src=\"https://github.com/purduelamm/purdue_me597_iiot/blob/main/lab/img_S25_update/lab1_fig3.png?raw=true\" width=\"50%\">\n",
    "\n",
    "*Figure 3 DS18B20 and pin information*\n",
    "\n",
    "*Table 3 Pin wiring connection between DS18B20 and Raspberry Pi*\n",
    "\n",
    "<table width=\"365\">\n",
    "<tbody>\n",
    "<tr>\n",
    "<td width=\"183\">\n",
    "<p>DS18B20</p>\n",
    "</td>\n",
    "<td width=\"182\">\n",
    "<p>Raspberry Pi</p>\n",
    "</td>\n",
    "</tr>\n",
    "<tr>\n",
    "<td width=\"183\">\n",
    "<p>Pin 2 (Data, out)</p>\n",
    "</td>\n",
    "<td width=\"182\">\n",
    "<p>Pin 1 (3.3V power*)</p>\n",
    "</td>\n",
    "</tr>\n",
    "<tr>\n",
    "<td width=\"183\">\n",
    "<p>Pin 3 (Vcc, +)</p>\n",
    "</td>\n",
    "<td width=\"182\">\n",
    "<p>Pin 16 (GPIO 23)</p>\n",
    "</td>\n",
    "</tr>\n",
    "<tr>\n",
    "<td width=\"183\">\n",
    "<p>Pin 1 (GND, -)</p>\n",
    "</td>\n",
    "<td width=\"182\">\n",
    "<p>Pin 6 (GND*)</p>\n",
    "</td>\n",
    "</tr>\n",
    "</tbody>\n",
    "</table>\n",
    "<p>&nbsp;</p>\n",
    "\n",
    "\n",
    "If you are already using a Pin, as Pin1 or Pin 6 of Raspberry Pi for any reasons, you can use alternatives. If alternatives are available, it is marked with * (asterisk mark). For example, Pin 17 (3.3V power) of Raspberry Pi is the same of Pin 1. Therefore, you can use Pin 17 instead of Pin 1 and Pin 9, 14, 20, 25, 34, or 39 instead of Pin 6. See the GPIO pins (Figure 2). Wiring diagram and configuration are shown in Figure 4 and Figure 5.\n",
    "\n",
    "<img src=\"https://github.com/purduelamm/purdue_me597_iiot/blob/main/lab/img_S25_update/lab1_fig4.png?raw=true\" width=\"70%\">\n",
    "\n",
    "*Figure 4 Wiring diagram for DS18B20*\n",
    "\n",
    "<img src=\"https://github.com/purduelamm/purdue_me597_iiot/blob/main/lab/img_S25_update/lab1_fig5.png?raw=true\" width=\"70%\">\n",
    "\n",
    "*Figure 5 Wiring configuration for DS18B20*\n",
    "\n"
   ]
  },
  {
   "cell_type": "markdown",
   "metadata": {
    "id": "eHfZGEICVxtb"
   },
   "source": [
    "### Task 1.1\n",
    "\n",
    "Take a picture of your wiring configuration as Figure 5 and attach it below:\n",
    "\n",
    "\n",
    "\n"
   ]
  },
  {
   "cell_type": "markdown",
   "metadata": {
    "id": "qxRXMkDBd439"
   },
   "source": [
    "---\n",
    "\n",
    "Place your screenshot in here.\n",
    "\n",
    "---"
   ]
  },
  {
   "cell_type": "markdown",
   "metadata": {
    "id": "q3Ay3w3wV3FZ"
   },
   "source": [
    "Now, we are ready to read data from DS18B20."
   ]
  },
  {
   "cell_type": "markdown",
   "metadata": {
    "id": "z7BhFJdpV36G"
   },
   "source": [
    "## 1.3 Reading Data from DS18B20 (Python)\n",
    "\n",
    "Before read data, you should change the option inside of the raspberry pi.\n",
    "Goto 'terminal' inside of the Raspberry Pi and enter '/boot/config.txt'\n",
    "\n",
    "---\n",
    "**<img src=\"https://github.com/purduelamm/purdue_me597_iiot/blob/main/lab/img/icon_RaspberryPi.png?raw=tru\" width=\"20\">Raspberry Pi - Terminal**\n",
    "\n",
    "`sudo nano /boot/config.txt`\n",
    "\n",
    "---\n",
    "\n",
    "Scroll down to the end, and type 'dtoverlay=w1-gpio,gpiopin=23' as the figure 6.\n",
    "You can change gpiopin number if you using different pin configuration.\n",
    "\n",
    "<img src=\"https://github.com/purduelamm/purdue_me597_iiot/blob/main/lab/img_S25_update/lab1_fig6.png?raw=true\" width=\"70%\">\n",
    "\n",
    "Using GPIO pin connection and Python programming, in this lab, you will measure the atmospheric temperature of DS18B20. Furthermore, you will save the collected data in a CSV file and plot to see the measured data.\n",
    "\n",
    "To read data, we will use Python code to measure DS18B20 sensor value. If you want to see the details, see the manual attached on [here](https://github.com/purduelamm/purdue_me597_iiot/blob/main/lab/lab1/DS18B20-Manual.pdf). Create a Python script (e.g., DS18B20.py) on Raspberry Pi, and then copy and paste the code below and run it. The data type of each measurement is an integer.\n",
    "\n",
    "* Comments are described after # (pound-sign) in the code.\n",
    "\n",
    "---\n",
    "**<img src=\"https://github.com/purduelamm/purdue_me597_iiot/blob/main/lab/img/icon_Python.png?raw=tru\" width=\"20\">Python - Python 3 ([DS18B20_sample.py](https://github.com/purduelamm/purdue_me597_iiot/blob/main/lab/lab1/DS18B20_sample.py))**\n",
    "\n",
    "```\n",
    "#!/usr/bin/env python3\n",
    "# -*- coding: utf-8 -*-\n",
    "\n",
    "import os\n",
    "import glob\n",
    "import time\n",
    "\n",
    "os.system('modprobe w1-gpio')\n",
    "os.system('modprobe w1-therm')\n",
    "\n",
    "base_dir = '/sys/bus/w1/devices/'\n",
    "device_folder = glob.glob(base_dir + '28*')[0]\n",
    "device_file = device_folder + '/w1_slave'\n",
    "\n",
    "def read_temp_raw():\n",
    "\tf = open(device_file, 'r')\n",
    "\tlines = f.readlines()\n",
    "\tf.close()\n",
    "\treturn lines\n",
    "\n",
    "def read_temp():\n",
    "\tlines = read_temp_raw()\n",
    "\twhile lines[0].strip()[-3:] != 'YES':\n",
    "\t\ttime.sleep(0.2)\n",
    "\t\tlines = read_temp_raw()\n",
    "\tequals_pos = lines[1].find('t=')\n",
    "\tif equals_pos != -1:\n",
    "\t\ttemp_string = lines[1][equals_pos+2:]\n",
    "\t\ttemp_c = float(temp_string) / 1000.0\n",
    "\t\ttemp_f = temp_c * 9.0 / 5.0 + 32.0\n",
    "\t\treturn temp_c, temp_f\n",
    "while True:\n",
    "\ttemperature_celsius, temperature_fahrenheit = read_temp()\n",
    "\tprint(f'Temperature: {temperature_celsius:.2f} °C')\n",
    "\tprint(f'Temperature: {temperature_fahrenheit:.2f} °F')\n",
    "\tprint('')\n",
    "\ttime.sleep(1)\n",
    "```\n",
    "\n",
    "---\n",
    "**<img src=\"https://github.com/purduelamm/purdue_me597_iiot/blob/main/lab/img/icon_RaspberryPi.png?raw=tru\" width=\"20\">Raspberry Pi - Terminal**\n",
    "\n",
    "`python3 DS18B20_sample.py`\n",
    "\n",
    "---\n",
    "\n",
    "<img src=\"https://github.com/purduelamm/purdue_me597_iiot/blob/main/lab/img_S25_update/lab1_fig7.png?raw=true\" width=\"70%\">\n",
    "\n",
    "*Figure 7 Terminal window after running sample code for DS18B20*\n"
   ]
  },
  {
   "cell_type": "markdown",
   "metadata": {
    "id": "pv7TCi_DspXv"
   },
   "source": [
    "You may need to handle any error that can occur. ‘try’ and ‘except’ functions of Python may help. Search try and except on the Internet if you are a beginner in Python."
   ]
  },
  {
   "cell_type": "markdown",
   "metadata": {
    "id": "nx2LsIdZWlg_"
   },
   "source": [
    "### Task 1.2\n",
    "\n",
    "Capture the terminal window after running sample code and attach it to the report below:\n"
   ]
  },
  {
   "cell_type": "markdown",
   "metadata": {
    "id": "uUc7phLW2ArQ"
   },
   "source": [
    "---\n",
    "\n",
    "Place your screenshot in here.\n",
    "\n",
    "---"
   ]
  },
  {
   "cell_type": "markdown",
   "metadata": {
    "id": "x_wlpRSvsrCh"
   },
   "source": [
    "### Task 1.3\n",
    "\n",
    "1. Modify the sample code (DS18B20_sample.py) to collect temperature (in digrees Celsius and Fahrenheit) with timestamps of each measurement for more than 1 minute and save the data in a CSV file.\n",
    "  * Try to change temperature while collecting data to see if it works well (e.g., gently wrapping around the sensor with your hands may help).\n",
    "  * Headers of the CSV file should be ‘Timestamp’, ‘Temperature(&deg;C)’, and ‘Temperature(&deg;F)’.\n",
    "  * Hint: use ‘csv’, ‘time’ and ‘datetime’ packages and ‘while’ or ‘for’ loop.\n",
    "  \n",
    "  * Note that the minimum refresh rate of DS18B20 is 1 seconds. So, measurement period (sampling period) of your code should be more than or equal to 1 seconds (e.g., 1 seconds).\n",
    "\n",
    "2. Copy and paste below the code that you developed for this Task.\n",
    "\n",
    "3. Once the csv file is generated, save a copy of it in your laptop (You will need it for plotting)\n"
   ]
  },
  {
   "cell_type": "code",
   "execution_count": 1,
   "metadata": {
    "id": "teV9oPis22Js"
   },
   "outputs": [],
   "source": [
    "#Copy + Paste your code below this line\n"
   ]
  },
  {
   "cell_type": "markdown",
   "metadata": {
    "id": "023-1h8dGsHc"
   },
   "source": [
    "<br></br>\n",
    "\n",
    "Please continue to [Lab 1.2 here](https://colab.research.google.com/github/purduelamm/purdue_me597_iiot/blob/main/lab/lab1/L1_Colab2.ipynb).\n"
   ]
  }
 ],
 "metadata": {
  "colab": {
   "provenance": []
  },
  "kernelspec": {
   "display_name": "Python 3",
   "name": "python3"
  },
  "language_info": {
   "codemirror_mode": {
    "name": "ipython",
    "version": 3
   },
   "file_extension": ".py",
   "mimetype": "text/x-python",
   "name": "python",
   "nbconvert_exporter": "python",
   "pygments_lexer": "ipython3",
   "version": "3.11.9"
  }
 },
 "nbformat": 4,
 "nbformat_minor": 0
}
