{
 "cells": [
  {
   "cell_type": "markdown",
   "metadata": {
    "id": "Ac2PCpCx8U5Z"
   },
   "source": [
    "<a href=\"https://colab.research.google.com/github/purduelamm/purdue_me597_iiot/blob/main/lab/lab3/PL3_Colab2.ipynb\" target=\"_parent\"><img src=\"https://colab.research.google.com/assets/colab-badge.svg\" alt=\"Open In Colab\"/></a>"
   ]
  },
  {
   "cell_type": "markdown",
   "metadata": {
    "id": "KDNuHODYLJrO"
   },
   "source": [
    "# Prelab 3.2 IoT Data Collection 3 - Access internal devices on on-campus network router from off-campus\n",
    "\n",
    "(**Additional Information for <font color=”green”> Online Class </font> Students**)\n",
    "<br/>\n",
    "If you are an <font color=”green”> online class </font> student, please pay special attention to the following information.\n",
    "<br/>\n",
    "If you are attending the offline class, you may skip this section."
   ]
  },
  {
   "cell_type": "markdown",
   "metadata": {
    "id": "w3G6J11DFruG"
   },
   "source": [
    "## Learning Goals\n",
    "\n",
    "Students will be able to:\n",
    "1.    Understand port-forwarding on network router\n",
    "2.    Understand default port numbers and designated ports in IIoT class\n",
    "3.    Access internal devices in ECN network using Purdue Cisco VPN\n"
   ]
  },
  {
   "cell_type": "markdown",
   "metadata": {
    "id": "aH-IixD37lqn"
   },
   "source": [
    "## 1.3 Introduction"
   ]
  },
  {
   "cell_type": "markdown",
   "metadata": {
    "id": "wNaBLQJbLJoz"
   },
   "source": [
    "<img src=\"https://github.com/purduelamm/purdue_me597_iiot/blob/main/lab/img_F24_update/prelab3_fig2.png?raw=true\" width=\"70%\">\n",
    "\n",
    "*Figure 2 Industry site network configuration*\n",
    "<br/>\n",
    "**Image source from Deutsche Telekom**\n",
    "<br/>\n",
    "<br/>\n",
    "Networks can be divided into public networks, like Google servers, and private networks, such as home routers or those used in military operations. When you connect to a public network, such as accessing Google servers from your device, you are entering a shared space accessible to many users. On the other hand, connecting to a private network often involves additional steps, such as configuring IP addresses or adjusting firewall settings, to ensure secure and proper communication.\n",
    "\n",
    "To illustrate this with a real-world example, imagine you are setting up a router in your home and you want to connect a new security camera. If you can access your router's IP address through a VPN service, you can reach the router using a designated IP address. However, simply reaching your router does not guarantee access to your internal network devices, like your security camera.\n",
    "\n",
    "To address this issue, you can use a technique called Port Forwarding, which allows you to connect to internal network devices from an external network. This way, you can view the security camera footage even when you're not directly connected to your home network.\n",
    "\n",
    "<img src=\"https://github.com/purduelamm/purdue_me597_iiot/blob/main/lab/img_F24_update/prelab3_fig3.png?raw=true\" width=\"70%\">\n",
    "\n",
    "*Figure 3 Port forwarding configuration*\n",
    "<br/>\n",
    "**Image source from AITA**\n",
    "<br/>\n",
    "<br/>\n",
    "Starting from Lab 3, you will be working with several devices on a private network under the Purdue ECN (Engineering Computer Network). Similar to the home security camera example, you will encounter challenges accessing Purdue's internal network devices. To overcome this, you will also use Port Forwarding to facilitate these connections.\n",
    "\n",
    "Port-forwarding is primarily used when we need external access to services or devices within a private network. To set up port-forwarding, you must define the internal port, the external port, and the local IP address of the device you wish to connect to.\n",
    "\n",
    "It's important to note that the internal and external ports do not need to match each other, as the destination of the service is already known. Each port is designated for a specific service, with some ports predefined for common services. For example, port 22 is used for SSH (Secure Shell) service, and port 5900 is used for VNC (Virtual Network Computing) service.\n",
    "\n",
    "By configuring port-forwarding correctly, you can securely and efficiently access your private network devices from an external network, ensuring that each service is accessible through its designated port."
   ]
  },
  {
   "cell_type": "markdown",
   "metadata": {
    "id": "dxNM1TRg8DxT"
   },
   "source": [
    "## 1.4 Understand default port numbers and designated ports in IIoT class"
   ]
  },
  {
   "cell_type": "markdown",
   "metadata": {
    "id": "19DGxlAu8EiZ"
   },
   "source": [
    "A port refers to a \"logical connection point\" and is used by a client program to specify a particular server program on a network when using the TCP/IP internet protocol. Each port is designated for a specific service, allowing multiple services to run on a single IP address without conflict.\n",
    "\n",
    "When communicating over a network, access to the computer where the server is located is determined based on the IP address. If multiple applications are running on one IP, the computer will have multiple servers running. In this case, the port number must be used to indicate which server for a specific service on the target IP device should be connected to. Table 1 illustrates several default port numbers and designated port in IIoT class.\n",
    "<br/>\n",
    "<br/>\n",
    "*Table 1 Default port numbers and designated ports in IIoT class*\n",
    "\n",
    "<table width=\"600\">\n",
    "<tbody>\n",
    "<tr>\n",
    "<td width=\"100\">\n",
    "<p>Port Number</p>\n",
    "</td>\n",
    "<td width=\"250\">\n",
    "<p>Description</p>\n",
    "</td>\n",
    "<td width=\"250\">\n",
    "<p>Type</p>\n",
    "</td>\n",
    "</tr>\n",
    "\n",
    "<tr>\n",
    "<td width=\"100\">\n",
    "<p>7</p>\n",
    "</td>\n",
    "<td width=\"250\">\n",
    "<p>Echo</p>\n",
    "</td>\n",
    "<td width=\"250\">\n",
    "<p>Default</p>\n",
    "</td>\n",
    "</tr>\n",
    "\n",
    "<tr>\n",
    "<td width=\"100\">\n",
    "<p>21</p>\n",
    "</td>\n",
    "<td width=\"250\">\n",
    "<p>File Transfer Protocol (FTP)</p>\n",
    "</td>\n",
    "<td width=\"250\">\n",
    "<p>Default</p>\n",
    "</td>\n",
    "</tr>\n",
    "\n",
    "<tr>\n",
    "<td width=\"100\">\n",
    "<p>22</p>\n",
    "</td>\n",
    "<td width=\"250\">\n",
    "<p>Secure Shell (SSH)</p>\n",
    "</td>\n",
    "<td width=\"250\">\n",
    "<p>Default</p>\n",
    "</td>\n",
    "</tr>\n",
    "\n",
    "<tr>\n",
    "<td width=\"100\">\n",
    "<p>23</p>\n",
    "</td>\n",
    "<td width=\"250\">\n",
    "<p>Telnet</p>\n",
    "</td>\n",
    "<td width=\"250\">\n",
    "<p>Default</p>\n",
    "</td>\n",
    "</tr>\n",
    "\n",
    "<tr>\n",
    "<td width=\"100\">\n",
    "<p>80</p>\n",
    "</td>\n",
    "<td width=\"250\">\n",
    "<p>Rest Protocol - IFM Sensor</p>\n",
    "</td>\n",
    "<td width=\"250\">\n",
    "<p>Default - Used in IIoT class</p>\n",
    "</td>\n",
    "</tr>\n",
    "\n",
    "<tr>\n",
    "<td width=\"100\">\n",
    "<p>502</p>\n",
    "</td>\n",
    "<td width=\"250\">\n",
    "<p>Modbus Protocol - Power meter</p>\n",
    "</td>\n",
    "<td width=\"250\">\n",
    "<p>Default - Used in IIoT class</p>\n",
    "</td>\n",
    "</tr>\n",
    "\n",
    "<tr>\n",
    "<td width=\"100\">\n",
    "<p>3000</p>\n",
    "</td>\n",
    "<td width=\"250\">\n",
    "<p>Grafana server</p>\n",
    "</td>\n",
    "<td width=\"250\">\n",
    "<p>User defined - Used in IIoT class</p>\n",
    "</td>\n",
    "</tr>\n",
    "\n",
    "<tr>\n",
    "<td width=\"100\">\n",
    "<p>3306</p>\n",
    "</td>\n",
    "<td width=\"250\">\n",
    "<p>MySQL database</p>\n",
    "</td>\n",
    "<td width=\"250\">\n",
    "<p>User defined - Used in IIoT class</p>\n",
    "</td>\n",
    "</tr>\n",
    "\n",
    "<tr>\n",
    "<td width=\"100\">\n",
    "<p>5000</p>\n",
    "</td>\n",
    "<td width=\"250\">\n",
    "<p>MTConnect Agent 0</p>\n",
    "</td>\n",
    "<td width=\"250\">\n",
    "<p>User defined - Used in IIoT class</p>\n",
    "</td>\n",
    "</tr>\n",
    "\n",
    "<tr>\n",
    "<td width=\"100\">\n",
    "<p>5001</p>\n",
    "</td>\n",
    "<td width=\"250\">\n",
    "<p>MTConnect Agent 1</p>\n",
    "</td>\n",
    "<td width=\"250\">\n",
    "<p>User defined - Used in IIoT class</p>\n",
    "</td>\n",
    "</tr>\n",
    "\n",
    "</tbody>\n",
    "</table>"
   ]
  },
  {
   "cell_type": "markdown",
   "metadata": {
    "id": "9uUx8sGjLJla"
   },
   "source": [
    "## 1.5 Access internal device connected to the network router"
   ]
  },
  {
   "cell_type": "markdown",
   "metadata": {
    "id": "zrfrVuofLJgC"
   },
   "source": [
    "* Access Purdue Cisco VPN\n",
    "<br/>\n",
    "\n",
    "In this chapter, we use Purdue Cisco VPN and test ports' availability.\n",
    "We already installed Purdue Cisco VPN on previous prelab 0-2.\n",
    "\n",
    "First, let's activate VPN service.\n",
    "If you use a Window PC, follow Figure 3 to activate VPN service.\n",
    "\n",
    "<img src=\"https://github.com/purduelamm/purdue_me597_iiot/blob/main/lab/img_F24_update/prelab3_fig4.png?raw=true\" width=\"70%\">\n",
    "\n",
    "*Figure 4 Activate procedure Purdue Cisco VPN*\n",
    "<br/>\n",
    "\n",
    "If you use different types of OS or encounter any errors, please check this link: https://communityhub.purdue.edu/storefront/product/anyconnect_personal\n",
    "\n",
    "On the raspberry PI, you can connect Purdue ECN network as described in Lab 0.\n",
    "\n",
    "Our network router's IP address is \"**10.165.67.146**\".\n",
    "\n",
    "Make sure that online students should check Purdue Cisco VPN is activated if you want to access the device connected to the network router."
   ]
  },
  {
   "cell_type": "markdown",
   "metadata": {
    "id": "PS75LqvI7v0x"
   },
   "source": [
    "* Check Ports availability\n",
    "<br/>\n",
    "\n",
    "If you use the window OS, you can use a software named \"Port Query\" to check ports from the certain IP address.\n",
    "\n",
    "<img src=\"https://github.com/purduelamm/purdue_me597_iiot/blob/main/lab/img_F24_update/prelab3_fig5.png?raw=true\" width=\"60%\">\n",
    "\n",
    "*Figure 5 Port Query GUI*\n",
    "<br/>\n",
    "\n",
    "As you can see in Figure 5, type the destination IP in the first blank box. Then, select 'Manually input query ports' as query type and type 3306 (the MySQL server port) into the blank box.\n",
    "\n",
    "When you click 'Query,' the result window will appear. There are three types of results:\n",
    "\n",
    "1. Listening: The port is open on the server and can communicate.\n",
    "\n",
    "2. Not Listening: The port is not open on the server. If the server is running, you may see this status change to \"Listening.\"\n",
    "\n",
    "3. Filtered: The port is blocked by a firewall, or the IP address is incorrect.\n",
    "\n",
    "As shown in Table 2, the router's port forwarding setup is already configured. You can reach some of the open ports (MySQL or Grafana), closed ports (MTConnect Port when its server is not running), or filtered ports (other ports we did not cover which may be blocked).\n",
    "\n",
    "Now, type **'10.165.67.146'** in the destination IP and **'3306'** in the query ports. Click 'Query' and observe the result.\n",
    "<br/>\n",
    "If you see 'Listening,' you are ready to proceed with Lab 3!\n",
    "<br/>\n",
    "<br/>\n",
    "\n",
    "*Table 2 Port Forwarding Setting*\n",
    "\n",
    "<table width=\"600\">\n",
    "<tbody>\n",
    "\n",
    "<tr>\n",
    "<td width=\"250\">\n",
    "<p>Service Name</p>\n",
    "</td>\n",
    "<td width=\"150\">\n",
    "<p>External Start Port</p>\n",
    "</td>\n",
    "<td width=\"150\">\n",
    "<p>Internal Start Port</p>\n",
    "</td>\n",
    "<td width=\"150\">\n",
    "<p>Internal IP address</p>\n",
    "</td>\n",
    "</tr>\n",
    "\n",
    "<tr>\n",
    "<td width=\"100\">\n",
    "<p>Rest Protocol - IFM Sensor</p>\n",
    "</td>\n",
    "<td width=\"250\">\n",
    "<p>80</p>\n",
    "</td>\n",
    "<td width=\"250\">\n",
    "<p>80</p>\n",
    "</td>\n",
    "<td width=\"250\">\n",
    "<p>192.168.1.102</p>\n",
    "</td>\n",
    "</tr>\n",
    "\n",
    "<tr>\n",
    "<td width=\"100\">\n",
    "<p>Modbus Protocol - Power meter</p>\n",
    "</td>\n",
    "<td width=\"250\">\n",
    "<p>502</p>\n",
    "</td>\n",
    "<td width=\"250\">\n",
    "<p>502</p>\n",
    "</td>\n",
    "<td width=\"250\">\n",
    "<p>192.168.1.100</p>\n",
    "</td>\n",
    "</tr>\n",
    "\n",
    "<tr>\n",
    "<td width=\"100\">\n",
    "<p>Grafana server</p>\n",
    "</td>\n",
    "<td width=\"250\">\n",
    "<p>3000</p>\n",
    "</td>\n",
    "<td width=\"250\">\n",
    "<p>3000</p>\n",
    "</td>\n",
    "<td width=\"250\">\n",
    "<p>192.168.1.4</p>\n",
    "</td>\n",
    "</tr>\n",
    "\n",
    "<tr>\n",
    "<td width=\"100\">\n",
    "<p>MySQL database</p>\n",
    "</td>\n",
    "<td width=\"250\">\n",
    "<p>3306</p>\n",
    "</td>\n",
    "<td width=\"250\">\n",
    "<p>3306</p>\n",
    "</td>\n",
    "<td width=\"250\">\n",
    "<p>192.168.1.4</p>\n",
    "</td>\n",
    "</tr>\n",
    "\n",
    "<tr>\n",
    "<td width=\"100\">\n",
    "<p>MTConnect Agent 0</p>\n",
    "</td>\n",
    "<td width=\"250\">\n",
    "<p>5000</p>\n",
    "</td>\n",
    "<td width=\"250\">\n",
    "<p>5000</p>\n",
    "</td>\n",
    "<td width=\"250\">\n",
    "<p>192.168.1.4</p>\n",
    "</td>\n",
    "</tr>\n",
    "\n",
    "<tr>\n",
    "<td width=\"100\">\n",
    "<p>MTConnect Agent 1</p>\n",
    "</td>\n",
    "<td width=\"250\">\n",
    "<p>5001</p>\n",
    "</td>\n",
    "<td width=\"250\">\n",
    "<p>5001</p>\n",
    "</td>\n",
    "<td width=\"250\">\n",
    "<p>192.168.1.4</p>\n",
    "</td>\n",
    "</tr>\n",
    "\n",
    "</tbody>\n",
    "</table>\n",
    "\n",
    "<br/>\n",
    "\n",
    "The TA has already connected **the mini PC (192.168.1.4), the IFM sensor (192.168.1.102), and the Modbus RTU to TCP Converter (192.168.1.100) for communicating with the power meter** to the networking router."
   ]
  },
  {
   "cell_type": "markdown",
   "metadata": {
    "id": "hysPRDc-3gdM"
   },
   "source": [
    "#### 1) Explain what is Port Forwarding?"
   ]
  },
  {
   "cell_type": "markdown",
   "metadata": {
    "id": "7uLfgWJK3Zbr"
   },
   "source": [
    "\n",
    "\n",
    "---\n",
    "\n",
    "Write down answer to 1) here.\n",
    "\n",
    "---\n",
    "\n"
   ]
  },
  {
   "cell_type": "markdown",
   "metadata": {
    "id": "EzIX2feV5ijV"
   },
   "source": [
    "#### 2) Specifically describe the Port Forwarding usage in real-life situation\n",
    "(You should give specific IP address (could be made up) for both internal and external networks when explaining your real-life situation.)"
   ]
  },
  {
   "cell_type": "markdown",
   "metadata": {
    "id": "uOgie5By5olf"
   },
   "source": [
    "\n",
    "\n",
    "---\n",
    "\n",
    "Write down your answer to 2) here.\n",
    "\n",
    "---\n",
    "\n"
   ]
  },
  {
   "cell_type": "markdown",
   "metadata": {
    "id": "cvD2MOGE8LrG"
   },
   "source": [
    "<br></br>\n",
    "\n",
    "Get back to [Lab Index Page](https://colab.research.google.com/github/purduelamm/purdue_me597_iiot/blob/main/index.ipynb)"
   ]
  }
 ],
 "metadata": {
  "colab": {
   "provenance": []
  },
  "kernelspec": {
   "display_name": "Python 3",
   "name": "python3"
  },
  "language_info": {
   "name": "python"
  }
 },
 "nbformat": 4,
 "nbformat_minor": 0
}
