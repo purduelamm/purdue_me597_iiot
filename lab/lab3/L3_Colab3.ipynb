{
 "cells": [
  {
   "cell_type": "markdown",
   "metadata": {
    "id": "heH07i19dAVu"
   },
   "source": [
    "<a href=\"https://colab.research.google.com/github/purduelamm/purdue_me597_iiot/blob/main/lab/lab3/L3_Colab3.ipynb\" target=\"_parent\"><img src=\"https://colab.research.google.com/assets/colab-badge.svg\" alt=\"Open In Colab\"/></a>"
   ]
  },
  {
   "cell_type": "markdown",
   "metadata": {
    "id": "vMMCL_NB9iFX"
   },
   "source": [
    "# Lab 3.3 IO-Link data collection using JSON interface"
   ]
  },
  {
   "cell_type": "markdown",
   "metadata": {
    "id": "4ew51nJX9o6Q"
   },
   "source": [
    "## 3.1 Python programming for data collection from IO-Link master\n",
    "\n",
    "The entire schematic of the data communication using JSON interface using REST API for the IO-Link vibraton device from the IO-Link master is illustrated in Figure 15. As the power meter data collection, your computers (laptop and Raspberry Pi) are on the router network. The IO-Link master is also on the same router network with a static IP address. The ethernet cable (RJ45) is used for connection between the router and the IO-Link master. Note that the IO-Link vibration sensor is connected to the **port 1** of the master. In this case using REST API, each of your computer is not a master but client. The IO-Link master is a server. The data communication sequence to read data from the IO-Link master is summarized as follows.\n",
    "\n",
    "1.  The computer (Raspberry Pi or laptop) requests data using REST API's post method to the IO-Link master\n",
    "2.  The IO-Link master read the IO-Link sensor data by the IO-Link protocol\n",
    "3.  The IO-Link master sends back the received data from the IO-Link sensor to the computer as the JSON format.\n",
    "4.  The computer receives the JSON data and parse it.\n",
    "\n",
    "To do this, we will use Python and 'requests' and 'json' packages which are the basic packages in Python. Moreover, refer to details of JSON interface of the IFM IO-Link master [here](https://github.com/purduelamm/purdue_me597_iiot/blob/main/lab/lab3/IFM_JSON_Integration_for_IO-Link.pdf?raw=true). The IO-Link vibration sensor (VVB001) manual for interface is also available [here](https://github.com/purduelamm/purdue_me597_iiot/blob/main/lab/lab3/IFM_VVB001_IO-Link_Interface_Description.pdf?raw=true). **Please note that this lab manual skips all details to extract data for your convenience. If you perform data collection from other IoT devices, the first thing you have to do is to read the manual and figure out data communication protocols and take appropriate action.**\n",
    "\n",
    "\n",
    "<img src=\"https://github.com/purduelamm/purdue_me597_iiot/blob/main/lab/img/lab3_fig15.png?raw=true\" width=\"90%\">\n",
    "\n",
    "\n",
    "*Figure 15 Schematic of communication for IO-Link data collection using JSON interface*\n",
    "\n",
    " **The IP address of the gateway at Lab3**.\n",
    " <br/>\n",
    " Offline class : 192.168.1.102\n",
    "  <br/>\n",
    "<font color=”green”> Online class </font> : 10.165.67.146\n"
   ]
  },
  {
   "cell_type": "markdown",
   "metadata": {
    "id": "PAoDzs5Rw1cF"
   },
   "source": [
    "### Task 3.1\n",
    "\n",
    "Capture the results of checking network connection using ping test from both Raspberry Pi and laptop to the IO-Link master for REST API as Figure 13 ([Lab3.2](https://githubtocolab.com/purduelamm/purdue_me597_iiot/blob/main/lab/lab3/L3_Colab2.ipynb)) and attach it to the report.\n",
    "*  Please note that the IP address of the IO-Link master will be different from the example.\n"
   ]
  },
  {
   "cell_type": "markdown",
   "metadata": {
    "id": "IABIttBAuwqh"
   },
   "source": [
    "\n",
    "\n",
    "---\n",
    "\n",
    "Place your screenshot for Task 3.1 here from Raspberry Pi\n",
    "\n",
    "---\n",
    "\n"
   ]
  },
  {
   "cell_type": "markdown",
   "metadata": {
    "id": "B7HFwErJuwO-"
   },
   "source": [
    "\n",
    "\n",
    "---\n",
    "\n",
    "Place your screenshot for Task 3.1 here from laptop\n",
    "\n",
    "---\n",
    "\n"
   ]
  },
  {
   "cell_type": "markdown",
   "metadata": {
    "id": "bNxE-HwYxYVy"
   },
   "source": [
    "If ping test works, you are ready to request data. Before we request data to the IO-Link master, let's see what data is available from the sensor. The selected available data is shown in Table 4. These information is also available on the manual [here](https://github.com/Eunseob/purdue_me597/blob/main/lab/lab3/IFM_VVB001_IO-Link_Interface_Description.pdf?raw=true) on page 9. Other than data from Table 4, tens of more data are available. In this lab, we will collect the selected data only. The refresh rate of the sensor is approximately 200 msec in default setting.\n",
    "\n",
    "**Note that to take an appropriate value with unit, a multiplier in the Range column of Table 4 must be applied after receiving data. For example, after multiplying 0.0001 to v-Rms value, the measured data has unit of m/s.**\n",
    "\n",
    "*Table 4 Selected process data from VVB001 sensor*\n",
    "\n",
    "<table width=\"100%\">\n",
    "<thead>\n",
    "  <tr>\n",
    "    <th>Process data input</th>\n",
    "    <th>Description</th>\n",
    "    <th>Record Type</th>\n",
    "    <th>Range</th>\n",
    "    <th>Unit</th>\n",
    "  </tr>\n",
    "</thead>\n",
    "<tbody>\n",
    "  <tr>\n",
    "    <td>v-Rms</td>\n",
    "    <td>Speed effective value</td>\n",
    "    <td rowspan=\"5\">IntegerT (16 bit)</td>\n",
    "    <td>(0 to 495)*0.0001</td>\n",
    "    <td>m/s</td>\n",
    "  </tr>\n",
    "  <tr>\n",
    "    <td>a-Peak</td>\n",
    "    <td>Acceleration peak value</td>\n",
    "    <td>(0 to 4903)*0.1</td>\n",
    "    <td>m/s2</td>\n",
    "  </tr>\n",
    "  <tr>\n",
    "    <td>a_Rms</td>\n",
    "    <td>Acceleration effective value</td>\n",
    "    <td>(0 to 4903)*0.1</td>\n",
    "    <td>m/s2</td>\n",
    "  </tr>\n",
    "  <tr>\n",
    "    <td>Temperature</td>\n",
    "    <td>Current temperature</td>\n",
    "    <td>(-300 to 800)*0.1</td>\n",
    "    <td>°C</td>\n",
    "  </tr>\n",
    "  <tr>\n",
    "    <td>Crest</td>\n",
    "    <td>Acceleration crest factor</td>\n",
    "    <td>(10 to 500)*0.1</td>\n",
    "    <td>-</td>\n",
    "  </tr>\n",
    "</tbody>\n",
    "</table>"
   ]
  },
  {
   "cell_type": "markdown",
   "metadata": {
    "id": "TdYo5L972AXT"
   },
   "source": [
    "---\n",
    "\n",
    "**<img src=\"https://github.com/purduelamm/purdue_me597_iiot/blob/main/lab/img/icon_Python.png?raw=tru\" width=\"20\">Python - Python 3 ([lab3_sample2.py](https://github.com/purduelamm/purdue_me597_iiot/blob/main/lab/lab3/lab3_sample2.py?raw=true))**\n",
    "\n",
    "```\n",
    "import requests\n",
    "import json\n",
    "import datetime\n",
    "\n",
    "# define the IO-Link master IP\n",
    "URL = \"http://192.168.1.102/\" # For online student with Cisco VPN : 10.165.67.146\n",
    "\n",
    "# define JSON body for post method\n",
    "# for the details, see the JSON interface manual\n",
    "# note that the sensor is connected to port 1\n",
    "BODY = {\n",
    "        \"code\":\"request\",\n",
    "        \"cid\":-1,\n",
    "        \"adr\":\"/iolinkmaster/port[1]/iolinkdevice/iolreadacyclic\",\n",
    "        \"data\":{\"index\":40,\"subindex\":0}    \n",
    "}\n",
    "\n",
    "now = datetime.datetime.now()\n",
    "\n",
    "# this requests data to the IO-Link master\n",
    "# using POST method of REST API with BODY information\n",
    "# req object will be response from the IO-Link master\n",
    "req = requests.post(url = URL, json=BODY)\n",
    "\n",
    "data_json = req.json() # this is json format data of req\n",
    "\n",
    "# because the the JSON data itself is in unformatted,\n",
    "# dumps method of JSON module below helps us to see the data in JSON format\n",
    "data_json_formatted = json.dumps(data_json, indent=2)\n",
    "\n",
    "print(now, ': Data structure from the IO-Link master\\n',data_json_formatted)\n",
    "\n",
    "# parsing JSON:\n",
    "# as you can see the above print,\n",
    "# 'value' is accesible in 'data' of the JSON data\n",
    "value = data_json['data']['value']\n",
    "\n",
    "# the raw measured value looks like 0000FC000002FF000000FF0000F6FF000026FF03\n",
    "# the length of the value is 40\n",
    "# this is byte array in 16-bit integer format\n",
    "print('raw measured value is', value)\n",
    "\n",
    "\n",
    "# Always, the returned value type from JSON is string\n",
    "# below is converting the value to v-Rms\n",
    "# description of v_rms variable is that\n",
    "# first, select first four elements from value\n",
    "# second, convert them into 16-bit integer\n",
    "# third, multiply 0.0001 to take the correct unit (m/s) and data\n",
    "# finally, rounding up and the data type is float\n",
    "v_rms = round(int(value[0:4], 16) * 0.0001)\n",
    "\n",
    "print('v_Rms =', v_rms ,'m/s')\n",
    "\n",
    "### indexing information is that\n",
    "# a_Peak data = value[8:12]\n",
    "# a_Rms data = value[16:20]\n",
    "# Temperature data = value[24:28]\n",
    "# Crest data = value[32:36]\n",
    "\n",
    "```\n",
    "\n",
    "---\n",
    "\n",
    "The sample code 2 (lab3_sample2.py) is given as above. This code is to print out v_Rms. Go through the code and run it. Based on the given code, perform the Tasks below."
   ]
  },
  {
   "cell_type": "markdown",
   "metadata": {
    "id": "WB_xGWEcNHJu"
   },
   "source": [
    "### Task 3.2\n",
    "\n",
    "Modify the sample code 2 on both laptop and Raspberry Pi to print out all data (v_Rms, a_Peak, a_Rms, Temperature, and Crest) as Table 4.\n",
    "\n",
    "* Print the values with units in Table 4\n"
   ]
  },
  {
   "cell_type": "markdown",
   "metadata": {
    "id": "Uw6JwDIi2Y5A"
   },
   "source": [
    "\n",
    "\n",
    "---\n",
    "\n",
    "Place your screenshot for Task 3.2 here from Raspberry Pi\n",
    "\n",
    "---\n",
    "\n"
   ]
  },
  {
   "cell_type": "markdown",
   "metadata": {
    "id": "k1fWjfKL2ZY4"
   },
   "source": [
    "\n",
    "\n",
    "---\n",
    "\n",
    "Place your screenshot for Task 3.2 here from laptop\n",
    "\n",
    "---\n",
    "\n"
   ]
  },
  {
   "cell_type": "markdown",
   "metadata": {
    "id": "v00wYsyaO-j0"
   },
   "source": [
    "### Task 3.3\n",
    "\n",
    "1.\tPerform the same as Task 2.3; Modify sample code 2 to collect IO-Link data for at least 1 minute and save data as a CSV file.\n",
    "\n",
    "* You can use one computer either laptop or Raspberry Pi.\n",
    "* Set the sampling period 1 second.\n",
    "* Data (header) should include time or datetime, v_Rms, a_Peak, a_Rms, Temperature, Crest as Table 5.\n",
    "* As a practice, plot data and calculate time-domain features.\n",
    "\n",
    "*Table 5 Example data of output CSV file for Task 3.3*\n",
    "<table width=\"100%\">\n",
    "<thead>\n",
    "  <tr>\n",
    "    <th>Time [sec]</th>\n",
    "    <th>v_Rms [m/s]</th>\n",
    "    <th>a_Peak [m/s2]</th>\n",
    "    <th>a_Rms [m/s2]</th>\n",
    "    <th>Temperature [C]</th>\n",
    "    <th>Crest [-]</th>\n",
    "  </tr>\n",
    "</thead>\n",
    "<tbody>\n",
    "  <tr>\n",
    "    <td colspan=\"6\" align=\"center\">...</td>\n",
    "  </tr>\n",
    "  <tr>\n",
    "    <td>10.254</td>\n",
    "    <td>0.001</td>\n",
    "    <td>1.24</td>\n",
    "    <td>0.48</td>\n",
    "    <td>24.1</td>\n",
    "    <td>2.58</td>\n",
    "  </tr>\n",
    "  <tr>\n",
    "    <td>10.461</td>\n",
    "    <td>0.002</td>\n",
    "    <td>1.34</td>\n",
    "    <td>0.51</td>\n",
    "    <td>23.9</td>\n",
    "    <td>2.63</td>\n",
    "  </tr>\n",
    "  <tr>\n",
    "    <td colspan=\"6\" align=\"center\">...</td>\n",
    "  </tr>\n",
    "</tbody>\n",
    "</table>"
   ]
  },
  {
   "cell_type": "code",
   "execution_count": 1,
   "metadata": {
    "id": "NPLRl3eIS_w9"
   },
   "outputs": [],
   "source": [
    "### Place your entire code for Task 3.3 Here\n",
    "# If you want, you can add more code block below to load csv file and plot it.\n"
   ]
  },
  {
   "cell_type": "markdown",
   "metadata": {
    "id": "m9lnIgQ-TnkV"
   },
   "source": [
    "## 3.2 Data collection from multiple sensors in a single program\n",
    "\n",
    "In this lab so far, we collected data from each sensor in a program. In this section, we try to collect data from both sensors at the same time in a single program.\n",
    "\n",
    "Perform the Tasks below."
   ]
  },
  {
   "cell_type": "markdown",
   "metadata": {
    "id": "H5Md2-_aUWlW"
   },
   "source": [
    "### Task 3.4\n",
    "\n",
    "By using the sample code 1 and 2, program a Python code as instructed below.\n",
    "\n",
    "* Make infinitely printing out all sensor data at the same time in a 'while' loop.\n",
    "* Use 'try' and 'except' to halt your program when pressing Ctrl+c.\n",
    "* Capture your console window or terminal when your program is running and attach it below.\n",
    "* You can use either laptop or Raspberry Pi to run this code.\n"
   ]
  },
  {
   "cell_type": "markdown",
   "metadata": {
    "id": "uoi6Oq6UVklR"
   },
   "source": [
    "\n",
    "\n",
    "---\n",
    "\n",
    "Place your screenshot for Task 3.4 here.\n",
    "\n",
    "---\n",
    "\n"
   ]
  },
  {
   "cell_type": "code",
   "execution_count": 2,
   "metadata": {
    "id": "DPRE9k5wVjxR"
   },
   "outputs": [],
   "source": [
    "### place your code for Task 3.4\n"
   ]
  },
  {
   "cell_type": "markdown",
   "metadata": {
    "id": "aKmMxB92WNWP"
   },
   "source": [
    "### Task 3.5\n",
    "\n",
    "Let's think more about IoT sensors and data collection in the sense of the programmer. The answers are open-ended. Answer the questions below."
   ]
  },
  {
   "cell_type": "markdown",
   "metadata": {
    "id": "1SUkKnFMWVov"
   },
   "source": [
    "#### 1) If you want to collect data from muliple sensors which have different sampling periods, how can you implement your program?"
   ]
  },
  {
   "cell_type": "markdown",
   "metadata": {
    "id": "ZZwfTfQRW1H4"
   },
   "source": [
    "\n",
    "\n",
    "---\n",
    "\n",
    "Write down your answer to 1) here.\n",
    "\n",
    "---\n",
    "\n"
   ]
  },
  {
   "cell_type": "markdown",
   "metadata": {
    "id": "rWn6lETpXVNX"
   },
   "source": [
    "#### 2) How can you make your program robust/stable even if suddenly unwanted network connection failure happens?\n",
    "\n"
   ]
  },
  {
   "cell_type": "markdown",
   "metadata": {
    "id": "4hazxIiMYanM"
   },
   "source": [
    "\n",
    "\n",
    "---\n",
    "\n",
    "Write down your answer to 2) here.\n",
    "\n",
    "---\n",
    "\n"
   ]
  },
  {
   "cell_type": "markdown",
   "metadata": {
    "id": "upKz1d2KYrnN"
   },
   "source": [
    "#### 3) What can you do with the electrical power and vibration data? Can they be used for an operational condition or health monitoring?"
   ]
  },
  {
   "cell_type": "markdown",
   "metadata": {
    "id": "RPBxFWzDZQ75"
   },
   "source": [
    "\n",
    "\n",
    "---\n",
    "\n",
    "Write down your answer to 3) here.\n",
    "\n",
    "---\n",
    "\n"
   ]
  },
  {
   "cell_type": "markdown",
   "metadata": {
    "id": "8B1yMEWN73qk"
   },
   "source": [
    "## Lab3 Summary and Deliverables\n",
    "\n",
    "Answer the following questions for your achievements\n",
    "\n",
    "\n"
   ]
  },
  {
   "cell_type": "markdown",
   "metadata": {
    "id": "rv8UEEKP9-_1"
   },
   "source": [
    "### Q1. Please summarize Lab3.\n",
    "\n",
    "---\n",
    "\n",
    "Write down A1 here.\n",
    "\n",
    "---\n"
   ]
  },
  {
   "cell_type": "markdown",
   "metadata": {
    "id": "Ds99tKJo-Ivv"
   },
   "source": [
    "### Q2. What skills did you have to develop to accomplish this project?\n",
    "\n",
    "---\n",
    "\n",
    "Write down A2 here.\n",
    "\n",
    "---"
   ]
  },
  {
   "cell_type": "markdown",
   "metadata": {
    "id": "-9jgGsGh-MJA"
   },
   "source": [
    "### Q3. What aspects of this project were the most beneficial for your learning?\n",
    "\n",
    "---\n",
    "\n",
    "Write down A3 here.\n",
    "\n",
    "---"
   ]
  },
  {
   "cell_type": "markdown",
   "metadata": {
    "id": "lIKRWroa-Oq2"
   },
   "source": [
    "### Q4. What challenges did you encounter in completing the project?\n",
    "\n",
    "---\n",
    "\n",
    "Write down A4 here.\n",
    "\n",
    "---"
   ]
  },
  {
   "cell_type": "markdown",
   "metadata": {
    "id": "W2t4RCyj-RcR"
   },
   "source": [
    "### Q5. How did you overcome the challenges or remedy the problems encountered?\n",
    "\n",
    "---\n",
    "\n",
    "Write down A5 here.\n",
    "\n",
    "---"
   ]
  },
  {
   "cell_type": "markdown",
   "metadata": {
    "id": "3oZoxZ0E-nHx"
   },
   "source": [
    "<br></br>\n",
    "\n",
    "Get back to [Lab Index Page](https://colab.research.google.com/github/purduelamm/purdue_me597_iiot/blob/main/index.ipynb)"
   ]
  }
 ],
 "metadata": {
  "colab": {
   "provenance": []
  },
  "kernelspec": {
   "display_name": "Python 3",
   "name": "python3"
  },
  "language_info": {
   "codemirror_mode": {
    "name": "ipython",
    "version": 3
   },
   "file_extension": ".py",
   "mimetype": "text/x-python",
   "name": "python",
   "nbconvert_exporter": "python",
   "pygments_lexer": "ipython3",
   "version": "3.11.9"
  }
 },
 "nbformat": 4,
 "nbformat_minor": 0
}
