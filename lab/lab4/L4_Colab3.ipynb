{
 "cells": [
  {
   "cell_type": "markdown",
   "metadata": {
    "id": "x7TOjAHRLMuQ"
   },
   "source": [
    "<a href=\"https://colab.research.google.com/github/purduelamm/purdue_me597_iiot/blob/main/lab/lab4/L4_Colab3.ipynb\" target=\"_parent\"><img src=\"https://colab.research.google.com/assets/colab-badge.svg\" alt=\"Open In Colab\"/></a>"
   ]
  },
  {
   "cell_type": "markdown",
   "metadata": {
    "id": "qXYnr-XLxqtO"
   },
   "source": [
    "# Lab 4.3 MTConnect Adapter Simulation"
   ]
  },
  {
   "cell_type": "markdown",
   "metadata": {
    "id": "lCrzU6VCxyHR"
   },
   "source": [
    "## 3.1 MTConnect Adapter\n",
    "\n",
    "We have not discussed details of MTConnect adapter yet. However, to see the data stream flow of MTConnect agent, we will simulate MTConnect adapter. The simulation data ([Sensor_log.txt](https://github.com/purduelamm/purdue_me597_iiot/blob/main/lab/lab4/MTConnect_simulator/Sensor_log.txt?raw=true)) and simulation adapter ([run_scenario.rb](https://github.com/purduelamm/purdue_me597_iiot/blob/main/lab/lab4/MTConnect_simulator/run_scenario.rb?raw=true)) programmed by ruby can be downloaded from the Github repo [here](https://github.com/purduelamm/purdue_me597_iiot/blob/main/lab/lab4/MTConnect_simulator.zip?raw=true). Please download two files on Raspberry Pi. Please note that two files must be in the same directory in this example. The schematic of the simulation is shown in Figure 8. Raspberry Pi will run MTConnect adapter simulator and data streams are transmitted to the MTConnect agent of laptop. The data log file (‘Sensor_log.txt’) using Lab1 and Lab2 codes was created by collecting both ADXL345 sensor data (3-axis accelerations), DS18B20 sensor(temperature), and Virtual sensor (humidity). Three sensors have different sampling frequencies. In this scenario, sampling periods are 1 second, 3 seconds, and 3 seconds, respectively. The length of simulation data is 3 minutes, but we will simulate repeating the data continuously. The plots of the data are shown in Figure 9.  \n",
    "\n",
    "<img src=\"https://github.com/purduelamm/purdue_me597_iiot/blob/main/lab/img/lab4_fig8.png?raw=true\" width=\"70%\">\n",
    "\n",
    "*Figure 8 MTConnect schematic for simulation*\n",
    "\n",
    "<img src=\"https://github.com/purduelamm/purdue_me597_iiot/blob/main/lab/img/lab4_fig9.png?raw=true\" width=\"100%\">\n",
    "\n",
    "*Figure 9 Simulation data (‘Sensor_log.txt’): ADXL345 acceleration (left) and DS18B20 & Virtual sensor (right)*\n",
    "\n",
    "First, you need to specify Adapter information in the agent configuration file (‘agent.cfg’) before running. Please follow the steps below.\n",
    "1.\tOpen *‘agent.cfg’* file of laptop using a text editor.\n",
    "2.\tChange appropriate Host and Port in *‘Adapters { }’* according to your network environment.\n",
    "  \n",
    "  a. Make Port 7878.\n",
    "\n",
    "  b. Host IP address of this example is 192.168.1.2 (your Raspberry Pi IP address must be different). Please make sure of Raspberry Pi's Wifi IP address in the router network.\n",
    "\n",
    "<img src=\"https://github.com/purduelamm/purdue_me597_iiot/blob/main/lab/img/lab4_fig0-10.png?raw=true\" width=\"70%\">\n",
    "\n",
    "3.\tSave the file and then close it.\n",
    "4.\tRun the agent on laptop.\n",
    "\n",
    "  a. Please make sure that the agent is running before moving on.\n",
    "\n",
    "Now, you are ready to run the simulator. Please follow the steps below.\n",
    "1.\tOpen ‘Terminal’.\n",
    "2.\tChange directory using *‘cd’* \\<file directory where *‘run_scenario.rb’ and ‘Sensor_log.txt’* are in> command as below.\n",
    "\n",
    "---\n",
    "\n",
    "**<img src=\"https://github.com/purduelamm/purdue_me597_iiot/blob/main/lab/img/icon_RaspberryPi.png?raw=tru\" width=\"20\">Raspberry Pi - Terminal**\n",
    "\n",
    "`cd /home/pi/Lab4_simulator/`\n",
    "* In this example, the file directory is */home/pi/Lab4_simulator/*.\n",
    "* Your directory might be different.\n",
    "\n",
    "<img src=\"https://github.com/purduelamm/purdue_me597_iiot/blob/main/lab/img_S24_update/lab4_fig0-11.png?raw=true\" width=\"50%\">\n",
    "\n",
    "\n",
    "---\n",
    "\n",
    "3.\tRun the simulator with the log file using ruby command as below.\n",
    "\n",
    "---\n",
    "\n",
    "**<img src=\"https://github.com/purduelamm/purdue_me597_iiot/blob/main/lab/img/icon_RaspberryPi.png?raw=tru\" width=\"20\">Raspberry Pi - Terminal**\n",
    "\n",
    "`ruby run_scenario.rb -l -s 192.168.1.2 -p 7878 Sensor_log.txt -v`\n",
    "\n",
    "<img src=\"https://github.com/purduelamm/purdue_me597_iiot/blob/main/lab/img/lab4_fig0-12.png?raw=true\" width=\"70%\">\n",
    "\n",
    "* The arguments and descriptions are below.\n",
    "  * ruby : Run Ruby of following *.rb file\n",
    "  * run_scenario.rb : The MTConnect adapter simulator programed by ruby\n",
    "  * -l : Loop the file\n",
    "  * -s : Server IP port to bind to the following IP address\n",
    "  * 192.168.1.2 : Adapter IP address\n",
    "  * -p : Port number of the adapter  \n",
    "  * 7878 : Port number of the adapter\n",
    "  * Sensor_log.txt : Simulation log filename\n",
    "  * -v : Verbose output\n",
    "* Please make sure of your Adapter IP address.\n",
    "* Please note that to stop (halt) the simulator, press Ctrl + c on *‘Terminal’*.\n",
    "\n",
    "---\n",
    "\n",
    "4. Check whether it is working or not by ‘current’ request data to the agent as below.\n",
    "\n",
    "<img src=\"https://github.com/purduelamm/purdue_me597_iiot/blob/main/lab/img/lab4_fig0-13.png?raw=true\" width=\"70%\">"
   ]
  },
  {
   "cell_type": "markdown",
   "metadata": {
    "id": "rFRITisryRVv"
   },
   "source": [
    "### Task 3.1\n",
    "\n",
    "1. Request ‘sample’ data (laptop: agent, Raspberry Pi: adapter) on a web browser of either Raspberry Pi or laptop and then capture and attach it below.\n",
    "\n",
    "2. What are your IP addresses (laptop and Raspberry Pi)?\n"
   ]
  },
  {
   "cell_type": "markdown",
   "metadata": {
    "id": "qxRXMkDBd439"
   },
   "source": [
    "---\n",
    "\n",
    "Place your screenshot for Task 3.1 here.\n",
    "\n",
    "---"
   ]
  },
  {
   "cell_type": "markdown",
   "metadata": {
    "id": "8Umf0IwgkSm5"
   },
   "source": [
    "\n",
    "\n",
    "---\n",
    "\n",
    "Laptop (MTConnect agent): IP address here for Task 3.1\n",
    "\n",
    "Raspberry Pi (MTconnect adapter-simulator): IP address here for Task 3.1\n",
    "\n",
    "\n",
    "---\n",
    "\n"
   ]
  },
  {
   "cell_type": "markdown",
   "metadata": {
    "id": "L6Qquq25yU6T"
   },
   "source": [
    "### Task 3.2\n",
    "\n",
    "1. Repeat Task 3.1 in contrariwise MTConnect configuration as Figure 10, i.e., Raspberry Pi is MTConnect agent and laptop is MTConnect adapter (simulator) in this case.\n",
    "  * The command to run the simulator on *'Command Prompt'* is the same with Raspberry Pi\n",
    "2. Capture 'sample' data on a web browser of either Raspberry Pi or laptop and then capture and attach it below.\n",
    "3. Save as 'probe', 'current', 'sample' data from the agent as XML documents (using *'View page source'*) and then attach all as deliverables in Brightspace.\n",
    "  * Filename\n",
    "    * Lab4_TASK3.2_Probe.xml\n",
    "    * Lab4_TASK3.2_Current.xml\n",
    "    * Lab4_TASK3.2_Sample.xml\n",
    "\n",
    "\n",
    "<img src=\"https://github.com/purduelamm/purdue_me597_iiot/blob/main/lab/img/lab4_fig10.png?raw=true\" width=\"70%\">\n",
    "\n",
    "*Figure 10 MTConnect schematic for simulation (TASK5)*"
   ]
  },
  {
   "cell_type": "markdown",
   "metadata": {
    "id": "CKHlp1gaI0S4"
   },
   "source": [
    "---\n",
    "\n",
    "Place your screenshot for Task 3.2 here.\n",
    "\n",
    "---"
   ]
  },
  {
   "cell_type": "markdown",
   "metadata": {
    "id": "djbvy2GyyYjW"
   },
   "source": [
    "---\n",
    "\n",
    "**<img src=\"https://github.com/purduelamm/purdue_me597_iiot/blob/main/lab/img/icon_Troubleshooting.png?raw=tru\" width=\"20\">Troubleshooting - Windows Firewall**\n",
    "\n",
    "When you run ruby simulator on laptop, ‘Windows Security Alert’ may pop up. Allow network communication for ruby as Figure 11.\n",
    "\n",
    "<img src=\"https://github.com/purduelamm/purdue_me597_iiot/blob/main/lab/img/lab4_fig11.png?raw=true\" width=\"60%\">\n",
    "\n",
    "*Figure 11 Allow firewall for ruby on Windows*\n",
    "\n",
    "Even if you allow the firewall as above, the simulator (taken a few seconds to run) may not work. If not working, please follow the steps below\n",
    "\n",
    "1. Open *'Windows Security'* and then click *'Firewall & network protection'*.\n",
    "\n",
    "<img src=\"https://github.com/purduelamm/purdue_me597_iiot/blob/main/lab/img/lab4_fig0-14.png?raw=true\" width=\"60%\">\n",
    "\n",
    "2. Click *'Allow on app through firewall'*\n",
    "\n",
    "<img src=\"https://github.com/purduelamm/purdue_me597_iiot/blob/main/lab/img/lab4_fig0-15.png?raw=true\" width=\"60%\">\n",
    "\n",
    "3. Click *'Change settings'*.\n",
    "\n",
    "4. Check all the checkboxes related to *'Ruby Interpreter'* in Allowed apps and features\n",
    "\n",
    "5. Click *'OK'*.\n",
    "\n",
    "<img src=\"https://github.com/purduelamm/purdue_me597_iiot/blob/main/lab/img/lab4_fig0-16.png?raw=true\" width=\"60%\">\n",
    "\n",
    "6. Run the simulator again."
   ]
  },
  {
   "cell_type": "markdown",
   "metadata": {
    "id": "fDeFSxWsL3zF"
   },
   "source": [
    "###Task 3.3\n",
    "1.\t(**DO THIS AT HOME**) Repeat Task 3.1 by running both the agent and adapter (simulation) on laptop as configuration in Figure 12.\n",
    "  * Hint: Adapter IP address should be 127.0.0.1.\n",
    "\n",
    "\n",
    "<img src=\"https://github.com/purduelamm/purdue_me597_iiot/blob/main/lab/img/lab4_fig12.png?raw=true\" width=\"40%\">\n",
    "\n",
    "*Figure 12 MTConnect schematic for simulation (Deliverable 2)*"
   ]
  },
  {
   "cell_type": "markdown",
   "metadata": {
    "id": "zbKKoD5UKW0e"
   },
   "source": [
    "---\n",
    "\n",
    "Place your screenshot for Task 3.3 here.\n",
    "\n",
    "---"
   ]
  },
  {
   "cell_type": "markdown",
   "metadata": {
    "id": "8B1yMEWN73qk"
   },
   "source": [
    "## Lab4 Summary and Deliverables\n",
    "\n",
    "Answer the following questions for your achievements\n",
    "\n",
    "\n"
   ]
  },
  {
   "cell_type": "markdown",
   "metadata": {
    "id": "rv8UEEKP9-_1"
   },
   "source": [
    "### Q1. Please summarize Lab4.\n",
    "\n",
    "---\n",
    "\n",
    "Write down A1 here.\n",
    "\n",
    "---\n"
   ]
  },
  {
   "cell_type": "markdown",
   "metadata": {
    "id": "Ds99tKJo-Ivv"
   },
   "source": [
    "### Q2. What skills did you have to develop to accomplish this project?\n",
    "\n",
    "---\n",
    "\n",
    "Write down A2 here.\n",
    "\n",
    "---"
   ]
  },
  {
   "cell_type": "markdown",
   "metadata": {
    "id": "-9jgGsGh-MJA"
   },
   "source": [
    "### Q3. What aspects of this project were the most beneficial for your learning?\n",
    "\n",
    "---\n",
    "\n",
    "Write down A3 here.\n",
    "\n",
    "---"
   ]
  },
  {
   "cell_type": "markdown",
   "metadata": {
    "id": "lIKRWroa-Oq2"
   },
   "source": [
    "### Q4. What challenges did you encounter in completing the project?\n",
    "\n",
    "---\n",
    "\n",
    "Write down A4 here.\n",
    "\n",
    "---"
   ]
  },
  {
   "cell_type": "markdown",
   "metadata": {
    "id": "W2t4RCyj-RcR"
   },
   "source": [
    "### Q5. How did you overcome the challenges or remedy the problems encountered?\n",
    "\n",
    "---\n",
    "\n",
    "Write down A5 here.\n",
    "\n",
    "---"
   ]
  },
  {
   "cell_type": "markdown",
   "metadata": {
    "id": "Cm_a2cbJvKAi"
   },
   "source": [
    "<br></br>\n",
    "\n",
    "Get back to [Lab Index Page](https://colab.research.google.com/github/purduelamm/purdue_me597_iiot/blob/main/index.ipynb)"
   ]
  }
 ],
 "metadata": {
  "colab": {
   "provenance": []
  },
  "kernelspec": {
   "display_name": "Python 3",
   "name": "python3"
  },
  "language_info": {
   "name": "python"
  }
 },
 "nbformat": 4,
 "nbformat_minor": 0
}
