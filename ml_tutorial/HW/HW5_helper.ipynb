{
 "cells": [
  {
   "cell_type": "markdown",
   "id": "qWF7XX9DLCfy",
   "metadata": {
    "id": "qWF7XX9DLCfy"
   },
   "source": [
    "# Convolutional Autoencoder (Conv_AE) Model Training"
   ]
  },
  {
   "cell_type": "code",
   "execution_count": null,
   "id": "0c63fcb1",
   "metadata": {
    "id": "0c63fcb1"
   },
   "outputs": [],
   "source": [
    "# Build a class for customized training process confirmation\n",
    "PrintAccPerEpochs = 100\n",
    "\n",
    "class MAE_PerEpoch(keras.callbacks.Callback):\n",
    "    def on_epoch_end(self, epoch, logs=None):\n",
    "        keras.callbacks.Callback()\n",
    "        if epoch%PrintAccPerEpochs == 0:\n",
    "            print(\"[{} Epochs] Loss(MAE) : {:.4f} \".format(epoch, logs[\"mae\"]))"
   ]
  },
  {
   "cell_type": "code",
   "execution_count": null,
   "id": "7f2429ba",
   "metadata": {
    "id": "7f2429ba"
   },
   "outputs": [],
   "source": [
    "# pytictoc is an useful tool for time calculation\n",
    "!pip install pytictoc\n",
    "from pytictoc import TicToc"
   ]
  },
  {
   "cell_type": "code",
   "execution_count": null,
   "id": "93edefa3",
   "metadata": {
    "id": "93edefa3"
   },
   "outputs": [],
   "source": [
    "# Define hyperparameter\n",
    "Epoch = 100\n",
    "\n",
    "DenseUnits_1 = 300\n",
    "DenseUnits_2 = 30"
   ]
  },
  {
   "cell_type": "code",
   "execution_count": null,
   "id": "3549f43c",
   "metadata": {
    "id": "3549f43c"
   },
   "outputs": [],
   "source": [
    "t = TicToc()\n",
    "\n",
    "# Design a Conv_AE model\n",
    "################################################################################\n",
    "input = keras.layers.Input(shape=(TrainData.shape[1], TrainData.shape[2], TrainData.shape[3]))\n",
    "\n",
    "# Encoder\n",
    "x = keras.layers.Conv2D(4 , kernel_size=(3,3), padding = 'same', activation = 'selu')(input)\n",
    "x = keras.layers.MaxPool2D(pool_size=(2,2), padding='same')(x)\n",
    "x = keras.layers.Conv2D(8 , kernel_size=(3,3), padding = 'same', activation = 'selu')(x)\n",
    "x = keras.layers.MaxPool2D(pool_size=(2,2), padding='same')(x)\n",
    "x = keras.layers.Conv2D(16, kernel_size=(3,3), padding = 'same', activation = 'selu')(x)\n",
    "x = keras.layers.MaxPool2D(pool_size=(2,2), padding='same')(x)\n",
    "x = keras.layers.Flatten()(x)\n",
    "x = keras.layers.Dense(units=DenseUnits_1, activation = 'selu')(x)\n",
    "\n",
    "# Bottle neck layer (Latent space)\n",
    "x = keras.layers.Dense(units=DenseUnits_2 , activation = 'selu')(x)\n",
    "\n",
    "# Decoder\n",
    "x = keras.layers.Dense(units=DenseUnits_1 , activation = 'selu')(x)\n",
    "x = keras.layers.Dense(units=7040 , activation = 'selu')(x)\n",
    "x = keras.layers.Reshape((5, 88, 16))(x)\n",
    "x = keras.layers.Conv2DTranspose(16, kernel_size=(3,3), padding = 'same', activation = 'selu', strides = 2)(x)\n",
    "x = keras.layers.Conv2DTranspose(8 , kernel_size=(3,3), padding = 'same', activation = 'selu', strides = 2)(x)\n",
    "x = keras.layers.Conv2DTranspose(1 , kernel_size=(3,3), padding = 'same', activation = 'selu', strides = 2)(x)\n",
    "\n",
    "Conv_AE = Model(input, x)\n",
    "\n",
    "# Metric for optimization: Mean Absolute Error (MAE) = Reconstruction Error\n",
    "Conv_AE.compile(loss=\"mae\", optimizer='adam', metrics=['mae'])\n",
    "Conv_AE.summary()\n",
    "\n",
    "print('Latent space dimension : %d'%(DenseUnits_2))\n",
    "################################################################################\n",
    "\n",
    "\n",
    "# Conv_AE training\n",
    "################################################################################\n",
    "print(\"\\n↓↓↓↓↓ Start Conv_AE training ↓↓↓↓↓\\n\")\n",
    "\n",
    "t.tic() # training start time\n",
    "\n",
    "tf.random.set_seed(777)\n",
    "history = Conv_AE.fit(TrainData, TrainData, epochs=Epoch, verbose=0,\n",
    "                      validation_data=(TestData, TestData), callbacks=[MAE_PerEpoch()])\n",
    "\n",
    "t.toc() # training end time\n",
    "time_s = t.tocvalue()\n",
    "################################################################################\n",
    "\n",
    "# Evaluation accuracy with TestData based on trained model\n",
    "Loss, Final_MAE = Conv_AE.evaluate(TestData,  TestData, verbose=0)\n",
    "print(\"\\n[Final Epochs] MAE : %.4f\"%(Final_MAE))\n",
    "print(\"Training time : %.4f seconds / %.4f seconds\"%(time_s, time_s/60))"
   ]
  },
  {
   "cell_type": "code",
   "execution_count": null,
   "id": "RwxRyUQhYI3i",
   "metadata": {
    "id": "RwxRyUQhYI3i"
   },
   "outputs": [],
   "source": [
    "# Save the trained model\n",
    "Conv_AE.save(\"/content/drive/MyDrive/your_directory/ConvAE_LsDim_%d.h5\"%(DenseUnits_2))\n",
    "\n",
    "# Save the training history\n",
    "Hist = pd.DataFrame(np.zeros((Epoch,2)))\n",
    "Hist.iloc[:,0] = np.array(history.history['loss'])\n",
    "Hist.iloc[:,1] = np.array(history.history['val_loss'])\n",
    "Hist.to_csv(\"/content/drive/MyDrive/your_directory/ConvAE_LsDim_%d_history.csv\"%(DenseUnits_2),header=None,index=None)"
   ]
  }
 ],
 "metadata": {
  "accelerator": "GPU",
  "colab": {
   "gpuType": "T4",
   "provenance": []
  },
  "kernelspec": {
   "display_name": "Python 3",
   "name": "python3"
  },
  "language_info": {
   "codemirror_mode": {
    "name": "ipython",
    "version": 3
   },
   "file_extension": ".py",
   "mimetype": "text/x-python",
   "name": "python",
   "nbconvert_exporter": "python",
   "pygments_lexer": "ipython3",
   "version": "3.11.5"
  }
 },
 "nbformat": 4,
 "nbformat_minor": 5
}
